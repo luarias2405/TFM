{
  "nbformat": 4,
  "nbformat_minor": 0,
  "metadata": {
    "colab": {
      "provenance": [],
      "authorship_tag": "ABX9TyMRli/+OyFhVhjGuUAz7iRl",
      "include_colab_link": true
    },
    "kernelspec": {
      "name": "python3",
      "display_name": "Python 3"
    },
    "language_info": {
      "name": "python"
    },
    "accelerator": "GPU",
    "gpuClass": "premium",
    "widgets": {
      "application/vnd.jupyter.widget-state+json": {
        "7a4266abd9744f768a5c6a5616fa4f36": {
          "model_module": "@jupyter-widgets/controls",
          "model_name": "HBoxModel",
          "model_module_version": "1.5.0",
          "state": {
            "_dom_classes": [],
            "_model_module": "@jupyter-widgets/controls",
            "_model_module_version": "1.5.0",
            "_model_name": "HBoxModel",
            "_view_count": null,
            "_view_module": "@jupyter-widgets/controls",
            "_view_module_version": "1.5.0",
            "_view_name": "HBoxView",
            "box_style": "",
            "children": [
              "IPY_MODEL_a146ab85d14d45e4b4289d1756a603a7",
              "IPY_MODEL_006946cfd3474990982703f98497697b",
              "IPY_MODEL_a94b53f6b0d04294b08078447976005a"
            ],
            "layout": "IPY_MODEL_45c2e25ac1fe45449d97bd071bc330f4"
          }
        },
        "a146ab85d14d45e4b4289d1756a603a7": {
          "model_module": "@jupyter-widgets/controls",
          "model_name": "HTMLModel",
          "model_module_version": "1.5.0",
          "state": {
            "_dom_classes": [],
            "_model_module": "@jupyter-widgets/controls",
            "_model_module_version": "1.5.0",
            "_model_name": "HTMLModel",
            "_view_count": null,
            "_view_module": "@jupyter-widgets/controls",
            "_view_module_version": "1.5.0",
            "_view_name": "HTMLView",
            "description": "",
            "description_tooltip": null,
            "layout": "IPY_MODEL_f0a5b891d8af42e9936ef13935fe0a93",
            "placeholder": "​",
            "style": "IPY_MODEL_53ed39d86a3e4129bb68b2669b570dbe",
            "value": "100%"
          }
        },
        "006946cfd3474990982703f98497697b": {
          "model_module": "@jupyter-widgets/controls",
          "model_name": "FloatProgressModel",
          "model_module_version": "1.5.0",
          "state": {
            "_dom_classes": [],
            "_model_module": "@jupyter-widgets/controls",
            "_model_module_version": "1.5.0",
            "_model_name": "FloatProgressModel",
            "_view_count": null,
            "_view_module": "@jupyter-widgets/controls",
            "_view_module_version": "1.5.0",
            "_view_name": "ProgressView",
            "bar_style": "success",
            "description": "",
            "description_tooltip": null,
            "layout": "IPY_MODEL_9c1d6192d30d417daeda723a10d47aab",
            "max": 773236,
            "min": 0,
            "orientation": "horizontal",
            "style": "IPY_MODEL_c1a3144826494a0ca2601bc63443a19d",
            "value": 773236
          }
        },
        "a94b53f6b0d04294b08078447976005a": {
          "model_module": "@jupyter-widgets/controls",
          "model_name": "HTMLModel",
          "model_module_version": "1.5.0",
          "state": {
            "_dom_classes": [],
            "_model_module": "@jupyter-widgets/controls",
            "_model_module_version": "1.5.0",
            "_model_name": "HTMLModel",
            "_view_count": null,
            "_view_module": "@jupyter-widgets/controls",
            "_view_module_version": "1.5.0",
            "_view_name": "HTMLView",
            "description": "",
            "description_tooltip": null,
            "layout": "IPY_MODEL_4de346c973aa486d9c33981eebe437b4",
            "placeholder": "​",
            "style": "IPY_MODEL_d2ce202c16fc45b388dc6754725ed85b",
            "value": " 755k/755k [00:00&lt;00:00, 26.4MB/s]"
          }
        },
        "45c2e25ac1fe45449d97bd071bc330f4": {
          "model_module": "@jupyter-widgets/base",
          "model_name": "LayoutModel",
          "model_module_version": "1.2.0",
          "state": {
            "_model_module": "@jupyter-widgets/base",
            "_model_module_version": "1.2.0",
            "_model_name": "LayoutModel",
            "_view_count": null,
            "_view_module": "@jupyter-widgets/base",
            "_view_module_version": "1.2.0",
            "_view_name": "LayoutView",
            "align_content": null,
            "align_items": null,
            "align_self": null,
            "border": null,
            "bottom": null,
            "display": null,
            "flex": null,
            "flex_flow": null,
            "grid_area": null,
            "grid_auto_columns": null,
            "grid_auto_flow": null,
            "grid_auto_rows": null,
            "grid_column": null,
            "grid_gap": null,
            "grid_row": null,
            "grid_template_areas": null,
            "grid_template_columns": null,
            "grid_template_rows": null,
            "height": null,
            "justify_content": null,
            "justify_items": null,
            "left": null,
            "margin": null,
            "max_height": null,
            "max_width": null,
            "min_height": null,
            "min_width": null,
            "object_fit": null,
            "object_position": null,
            "order": null,
            "overflow": null,
            "overflow_x": null,
            "overflow_y": null,
            "padding": null,
            "right": null,
            "top": null,
            "visibility": null,
            "width": null
          }
        },
        "f0a5b891d8af42e9936ef13935fe0a93": {
          "model_module": "@jupyter-widgets/base",
          "model_name": "LayoutModel",
          "model_module_version": "1.2.0",
          "state": {
            "_model_module": "@jupyter-widgets/base",
            "_model_module_version": "1.2.0",
            "_model_name": "LayoutModel",
            "_view_count": null,
            "_view_module": "@jupyter-widgets/base",
            "_view_module_version": "1.2.0",
            "_view_name": "LayoutView",
            "align_content": null,
            "align_items": null,
            "align_self": null,
            "border": null,
            "bottom": null,
            "display": null,
            "flex": null,
            "flex_flow": null,
            "grid_area": null,
            "grid_auto_columns": null,
            "grid_auto_flow": null,
            "grid_auto_rows": null,
            "grid_column": null,
            "grid_gap": null,
            "grid_row": null,
            "grid_template_areas": null,
            "grid_template_columns": null,
            "grid_template_rows": null,
            "height": null,
            "justify_content": null,
            "justify_items": null,
            "left": null,
            "margin": null,
            "max_height": null,
            "max_width": null,
            "min_height": null,
            "min_width": null,
            "object_fit": null,
            "object_position": null,
            "order": null,
            "overflow": null,
            "overflow_x": null,
            "overflow_y": null,
            "padding": null,
            "right": null,
            "top": null,
            "visibility": null,
            "width": null
          }
        },
        "53ed39d86a3e4129bb68b2669b570dbe": {
          "model_module": "@jupyter-widgets/controls",
          "model_name": "DescriptionStyleModel",
          "model_module_version": "1.5.0",
          "state": {
            "_model_module": "@jupyter-widgets/controls",
            "_model_module_version": "1.5.0",
            "_model_name": "DescriptionStyleModel",
            "_view_count": null,
            "_view_module": "@jupyter-widgets/base",
            "_view_module_version": "1.2.0",
            "_view_name": "StyleView",
            "description_width": ""
          }
        },
        "9c1d6192d30d417daeda723a10d47aab": {
          "model_module": "@jupyter-widgets/base",
          "model_name": "LayoutModel",
          "model_module_version": "1.2.0",
          "state": {
            "_model_module": "@jupyter-widgets/base",
            "_model_module_version": "1.2.0",
            "_model_name": "LayoutModel",
            "_view_count": null,
            "_view_module": "@jupyter-widgets/base",
            "_view_module_version": "1.2.0",
            "_view_name": "LayoutView",
            "align_content": null,
            "align_items": null,
            "align_self": null,
            "border": null,
            "bottom": null,
            "display": null,
            "flex": null,
            "flex_flow": null,
            "grid_area": null,
            "grid_auto_columns": null,
            "grid_auto_flow": null,
            "grid_auto_rows": null,
            "grid_column": null,
            "grid_gap": null,
            "grid_row": null,
            "grid_template_areas": null,
            "grid_template_columns": null,
            "grid_template_rows": null,
            "height": null,
            "justify_content": null,
            "justify_items": null,
            "left": null,
            "margin": null,
            "max_height": null,
            "max_width": null,
            "min_height": null,
            "min_width": null,
            "object_fit": null,
            "object_position": null,
            "order": null,
            "overflow": null,
            "overflow_x": null,
            "overflow_y": null,
            "padding": null,
            "right": null,
            "top": null,
            "visibility": null,
            "width": null
          }
        },
        "c1a3144826494a0ca2601bc63443a19d": {
          "model_module": "@jupyter-widgets/controls",
          "model_name": "ProgressStyleModel",
          "model_module_version": "1.5.0",
          "state": {
            "_model_module": "@jupyter-widgets/controls",
            "_model_module_version": "1.5.0",
            "_model_name": "ProgressStyleModel",
            "_view_count": null,
            "_view_module": "@jupyter-widgets/base",
            "_view_module_version": "1.2.0",
            "_view_name": "StyleView",
            "bar_color": null,
            "description_width": ""
          }
        },
        "4de346c973aa486d9c33981eebe437b4": {
          "model_module": "@jupyter-widgets/base",
          "model_name": "LayoutModel",
          "model_module_version": "1.2.0",
          "state": {
            "_model_module": "@jupyter-widgets/base",
            "_model_module_version": "1.2.0",
            "_model_name": "LayoutModel",
            "_view_count": null,
            "_view_module": "@jupyter-widgets/base",
            "_view_module_version": "1.2.0",
            "_view_name": "LayoutView",
            "align_content": null,
            "align_items": null,
            "align_self": null,
            "border": null,
            "bottom": null,
            "display": null,
            "flex": null,
            "flex_flow": null,
            "grid_area": null,
            "grid_auto_columns": null,
            "grid_auto_flow": null,
            "grid_auto_rows": null,
            "grid_column": null,
            "grid_gap": null,
            "grid_row": null,
            "grid_template_areas": null,
            "grid_template_columns": null,
            "grid_template_rows": null,
            "height": null,
            "justify_content": null,
            "justify_items": null,
            "left": null,
            "margin": null,
            "max_height": null,
            "max_width": null,
            "min_height": null,
            "min_width": null,
            "object_fit": null,
            "object_position": null,
            "order": null,
            "overflow": null,
            "overflow_x": null,
            "overflow_y": null,
            "padding": null,
            "right": null,
            "top": null,
            "visibility": null,
            "width": null
          }
        },
        "d2ce202c16fc45b388dc6754725ed85b": {
          "model_module": "@jupyter-widgets/controls",
          "model_name": "DescriptionStyleModel",
          "model_module_version": "1.5.0",
          "state": {
            "_model_module": "@jupyter-widgets/controls",
            "_model_module_version": "1.5.0",
            "_model_name": "DescriptionStyleModel",
            "_view_count": null,
            "_view_module": "@jupyter-widgets/base",
            "_view_module_version": "1.2.0",
            "_view_name": "StyleView",
            "description_width": ""
          }
        }
      }
    }
  },
  "cells": [
    {
      "cell_type": "markdown",
      "metadata": {
        "id": "view-in-github",
        "colab_type": "text"
      },
      "source": [
        "<a href=\"https://colab.research.google.com/github/luarias2405/TFM/blob/main/VersionYoloV8_V1.ipynb\" target=\"_parent\"><img src=\"https://colab.research.google.com/assets/colab-badge.svg\" alt=\"Open In Colab\"/></a>"
      ]
    },
    {
      "cell_type": "markdown",
      "source": [
        "# Implementacion YoloV8\n"
      ],
      "metadata": {
        "id": "m-uAR806K_Ve"
      }
    },
    {
      "cell_type": "markdown",
      "source": [
        "Importación de Liberias"
      ],
      "metadata": {
        "id": "efRM7MgdLGTi"
      }
    },
    {
      "cell_type": "code",
      "execution_count": 1,
      "metadata": {
        "colab": {
          "base_uri": "https://localhost:8080/"
        },
        "id": "OJudBLZfm93E",
        "outputId": "3c6f1a53-684d-49b5-b410-fb5520a924b0"
      },
      "outputs": [
        {
          "output_type": "stream",
          "name": "stderr",
          "text": [
            "<ipython-input-1-ace0d4ead016>:6: DeprecationWarning: Please use `binary_fill_holes` from the `scipy.ndimage` namespace, the `scipy.ndimage.morphology` namespace is deprecated.\n",
            "  from scipy.ndimage.morphology import binary_fill_holes as bfh\n"
          ]
        }
      ],
      "source": [
        "import numpy as np\n",
        "import cv2\n",
        "import matplotlib.pyplot as plt\n",
        "from skimage import io\n",
        "from skimage import morphology\n",
        "from scipy.ndimage.morphology import binary_fill_holes as bfh\n",
        "from google.colab import drive\n",
        "from skimage.measure import regionprops\n",
        "from skimage.measure import label\n",
        "from skimage.morphology import convex_hull_image\n",
        "import os \n",
        "from PIL import Image\n",
        "import glob\n",
        "import random\n",
        "from splitfolders.split import ratio"
      ]
    },
    {
      "cell_type": "markdown",
      "source": [
        "Conexión con Google Drive"
      ],
      "metadata": {
        "id": "Ys-ofsLJLQfu"
      }
    },
    {
      "cell_type": "code",
      "source": [
        "drive.mount('/content/gdrive')"
      ],
      "metadata": {
        "colab": {
          "base_uri": "https://localhost:8080/"
        },
        "id": "Bv8AXThqnmia",
        "outputId": "1b42184c-9f90-41af-b9c5-05458ea55365"
      },
      "execution_count": 2,
      "outputs": [
        {
          "output_type": "stream",
          "name": "stdout",
          "text": [
            "Mounted at /content/gdrive\n"
          ]
        }
      ]
    },
    {
      "cell_type": "markdown",
      "source": [
        "Realizamos la Partición de Train,Valid y Test"
      ],
      "metadata": {
        "id": "q9sdh1p5LXIy"
      }
    },
    {
      "cell_type": "code",
      "source": [
        "import splitfolders\n",
        "input_folder = '/content/gdrive/MyDrive/TFM/DATANew'\n",
        "splitfolders.ratio(input_folder,output=\"/content/gdrive/MyDrive/TFM1/DATANew/dataset\",\n",
        "                   seed=42,ratio=(.7,.2,.1),\n",
        "                   group_prefix=None)"
      ],
      "metadata": {
        "id": "AxIsGYZGoC4a"
      },
      "execution_count": null,
      "outputs": []
    },
    {
      "cell_type": "markdown",
      "source": [
        "Generar los labels para el conjunto de test\n",
        "\n",
        "\n",
        "1.   Generamos los recuadros que distinguen la mitosis en cada una de las máscaras de los parches.\n",
        "2.   Adicional generamos las coordenadas de dicho recuadros y estas imágenes y .txt se van guardando en un nuevo folder donde se almacena la imagen junto con su txt que contiene la clase, el centro del recuadro, el ancho y la altura.\n"
      ],
      "metadata": {
        "id": "3-GBk0srLoUt"
      }
    },
    {
      "cell_type": "code",
      "source": [
        "path=\"/content/gdrive/MyDrive/TFM1/DATANew/dataset/test/images/\"\n",
        "pathMask=\"/content/gdrive/MyDrive/TFM/MaskPatch/\"\n",
        "\n",
        "c=0\n",
        "listImg=[]\n",
        "for filename in os.listdir(path):\n",
        "  base=os.path.splitext(filename)[0]\n",
        "  file= pathMask+base+'.bmp'\n",
        "  img= io.imread(file)\n",
        "  rgb=img/255.0\n",
        "  M=rgb.copy()\n",
        "  img_gaus=M.copy()\n",
        "  img_gaus=(img_gaus*255).astype('uint8')\n",
        "  img_g = cv2.GaussianBlur(img_gaus, (5,5), 0)\n",
        "  t, mask = cv2.threshold(img_g,0,255,cv2.THRESH_BINARY+cv2.THRESH_OTSU)\n",
        "  mask=mask.astype('bool')\n",
        "  clean_img=morphology.remove_small_objects(mask,300)\n",
        "  h, w = clean_img.shape\n",
        "  ref = np.zeros((h+2, w+2), np.uint8)\n",
        "  mask_fill=clean_img.copy().astype('uint8')\n",
        "  cv2.floodFill(mask_fill, ref, (0,0), 0)\n",
        "  cv2.floodFill(mask_fill, ref, (h-2,w-2), 0)\n",
        "\n",
        "# Rellenar los lúmenes con la función binary_fill_holes de la librería scipy.ndimage.morphology\n",
        "# Visualizar la máscara resultante\n",
        "  bordes = mask_fill.copy()\n",
        "  filled_bordes = bfh(bordes)\n",
        "  img_lleno=filled_bordes.astype('uint8')\n",
        "  conts,num= cv2.findContours(img_lleno, cv2.RETR_TREE, cv2.CHAIN_APPROX_SIMPLE)\n",
        "  print(img_lleno.max())\n",
        "  bordes = mask_fill.copy()\n",
        "  filled_bordes = bfh(img)\n",
        "  cancer,numero=label(filled_bordes,return_num=True)\n",
        "  if numero >0 :\n",
        "    lumenes=filled_bordes.astype('uint8')\n",
        "    lab,num=label(lumenes,return_num=True)\n",
        "    v,c=np.unique(lab,return_counts=True)\n",
        "    objeto=lab.astype(\"uint8\")\n",
        "    prop=regionprops(objeto)\n",
        "    print(numero)\n",
        "    pathFile=\"/content/gdrive/MyDrive/TFM1/DATANew/dataset/test/labels/\"+filename\n",
        "    base=os.path.splitext(pathFile)[0]\n",
        "    file = open(base+ \".txt\", \"w\")\n",
        "    for j in range(numero):\n",
        "      #area_objeto=prop[0].area\n",
        "      #area_objeto\n",
        "      y1,x1,y2,x2=regionprops(objeto)[j].bbox\n",
        "      print(y1,x1,y2,x2)\n",
        "      x1=x1-13\n",
        "      x2=x2+13\n",
        "      y1=y1-13\n",
        "      y2=y2+13\n",
        "      altura=y2-y1\n",
        "      ancho=x2-x1\n",
        "      centrox=x2-(ancho/2)\n",
        "      centroy= y2-(altura/2)\n",
        "      file.write(\"0\"+\" \"+str(round(centrox/512,3))+\" \"+str(round(centroy/512,3))+\" \"+str(round(ancho/512,3))+\" \"+str(round(altura/512,3))+\"\\n\")\n",
        "    file.close()"
      ],
      "metadata": {
        "id": "KnkNPk51D2j9"
      },
      "execution_count": null,
      "outputs": []
    },
    {
      "cell_type": "markdown",
      "source": [
        "Generar los labels para el conjunto de Train\n",
        "\n",
        "Generamos los recuadros que distinguen la mitosis en cada una de las máscaras de los parches.\n",
        "Adicional generamos las coordenadas de dicho recuadros y estas imágenes y .txt se van guardando en un nuevo folder donde se almacena la imagen junto con su txt que contiene la clase, el centro del recuadro, el ancho y la altura."
      ],
      "metadata": {
        "id": "8wJHpDnGMG9Q"
      }
    },
    {
      "cell_type": "code",
      "source": [
        "path=\"/content/gdrive/MyDrive/TFM1/DATANew/dataset/train/images/\"\n",
        "pathMask=\"/content/gdrive/MyDrive/TFM/MaskPatch/\"\n",
        "\n",
        "c=0\n",
        "listImg=[]\n",
        "for filename in os.listdir(path):\n",
        "  base=os.path.splitext(filename)[0]\n",
        "  file= pathMask+base+'.bmp'\n",
        "  img= io.imread(file)\n",
        "  rgb=img/255.0\n",
        "  M=rgb.copy()\n",
        "  img_gaus=M.copy()\n",
        "  img_gaus=(img_gaus*255).astype('uint8')\n",
        "  img_g = cv2.GaussianBlur(img_gaus, (5,5), 0)\n",
        "  t, mask = cv2.threshold(img_g,0,255,cv2.THRESH_BINARY+cv2.THRESH_OTSU)\n",
        "  mask=mask.astype('bool')\n",
        "  clean_img=morphology.remove_small_objects(mask,300)\n",
        "  h, w = clean_img.shape\n",
        "  ref = np.zeros((h+2, w+2), np.uint8)\n",
        "  mask_fill=clean_img.copy().astype('uint8')\n",
        "  cv2.floodFill(mask_fill, ref, (0,0), 0)\n",
        "  cv2.floodFill(mask_fill, ref, (h-2,w-2), 0)\n",
        "\n",
        "# Rellenar los lúmenes con la función binary_fill_holes de la librería scipy.ndimage.morphology\n",
        "# Visualizar la máscara resultante\n",
        "  bordes = mask_fill.copy()\n",
        "  filled_bordes = bfh(bordes)\n",
        "  img_lleno=filled_bordes.astype('uint8')\n",
        "  conts,num= cv2.findContours(img_lleno, cv2.RETR_TREE, cv2.CHAIN_APPROX_SIMPLE)\n",
        "  print(img_lleno.max())\n",
        "  bordes = mask_fill.copy()\n",
        "  filled_bordes = bfh(img)\n",
        "  cancer,numero=label(filled_bordes,return_num=True)\n",
        "  if numero >0 :\n",
        "    lumenes=filled_bordes.astype('uint8')\n",
        "    lab,num=label(lumenes,return_num=True)\n",
        "    v,c=np.unique(lab,return_counts=True)\n",
        "    objeto=lab.astype(\"uint8\")\n",
        "    prop=regionprops(objeto)\n",
        "    print(numero)\n",
        "    pathFile=\"/content/gdrive/MyDrive/TFM1/DATANew/dataset/train/labels/\"+filename\n",
        "    base=os.path.splitext(pathFile)[0]\n",
        "    file = open(base+ \".txt\", \"w\")\n",
        "    for j in range(numero):\n",
        "      #area_objeto=prop[0].area\n",
        "      #area_objeto\n",
        "      y1,x1,y2,x2=regionprops(objeto)[j].bbox\n",
        "      print(y1,x1,y2,x2)\n",
        "      x1=x1-13\n",
        "      x2=x2+13\n",
        "      y1=y1-13\n",
        "      y2=y2+13\n",
        "      altura=y2-y1\n",
        "      ancho=x2-x1\n",
        "      centrox=x2-(ancho/2)\n",
        "      centroy= y2-(altura/2)\n",
        "      file.write(\"0\"+\" \"+str(round(centrox/512,3))+\" \"+str(round(centroy/512,3))+\" \"+str(round(ancho/512,3))+\" \"+str(round(altura/512,3))+\"\\n\")\n",
        "    file.close()"
      ],
      "metadata": {
        "id": "hnVRKSvGqCFi"
      },
      "execution_count": null,
      "outputs": []
    },
    {
      "cell_type": "markdown",
      "source": [
        "Generar los labels para el conjunto de Validación\n",
        "\n",
        "Generamos los recuadros que distinguen la mitosis en cada una de las máscaras de los parches.\n",
        "Adicional generamos las coordenadas de dicho recuadros y estas imágenes y .txt se van guardando en un nuevo folder donde se almacena la imagen junto con su txt que contiene la clase, el centro del recuadro, el ancho y la altura."
      ],
      "metadata": {
        "id": "_jaO1DfyMOEx"
      }
    },
    {
      "cell_type": "code",
      "source": [
        "path=\"/content/gdrive/MyDrive/TFM1/DATANew/dataset/val/images/\"\n",
        "pathMask=\"/content/gdrive/MyDrive/TFM/MaskPatch/\"\n",
        "\n",
        "c=0\n",
        "listImg=[]\n",
        "for filename in os.listdir(path):\n",
        "  base=os.path.splitext(filename)[0]\n",
        "  file= pathMask+base+'.bmp'\n",
        "  img= io.imread(file)\n",
        "  rgb=img/255.0\n",
        "  M=rgb.copy()\n",
        "  img_gaus=M.copy()\n",
        "  img_gaus=(img_gaus*255).astype('uint8')\n",
        "  img_g = cv2.GaussianBlur(img_gaus, (5,5), 0)\n",
        "  t, mask = cv2.threshold(img_g,0,255,cv2.THRESH_BINARY+cv2.THRESH_OTSU)\n",
        "  mask=mask.astype('bool')\n",
        "  clean_img=morphology.remove_small_objects(mask,300)\n",
        "  h, w = clean_img.shape\n",
        "  ref = np.zeros((h+2, w+2), np.uint8)\n",
        "  mask_fill=clean_img.copy().astype('uint8')\n",
        "  cv2.floodFill(mask_fill, ref, (0,0), 0)\n",
        "  cv2.floodFill(mask_fill, ref, (h-2,w-2), 0)\n",
        "\n",
        "# Rellenar los lúmenes con la función binary_fill_holes de la librería scipy.ndimage.morphology\n",
        "# Visualizar la máscara resultante\n",
        "  bordes = mask_fill.copy()\n",
        "  filled_bordes = bfh(bordes)\n",
        "  img_lleno=filled_bordes.astype('uint8')\n",
        "  conts,num= cv2.findContours(img_lleno, cv2.RETR_TREE, cv2.CHAIN_APPROX_SIMPLE)\n",
        "  print(img_lleno.max())\n",
        "  bordes = mask_fill.copy()\n",
        "  filled_bordes = bfh(img)\n",
        "  cancer,numero=label(filled_bordes,return_num=True)\n",
        "  if numero >0 :\n",
        "    lumenes=filled_bordes.astype('uint8')\n",
        "    lab,num=label(lumenes,return_num=True)\n",
        "    v,c=np.unique(lab,return_counts=True)\n",
        "    objeto=lab.astype(\"uint8\")\n",
        "    prop=regionprops(objeto)\n",
        "    print(numero)\n",
        "    pathFile=\"/content/gdrive/MyDrive/TFM1/DATANew/dataset/val/labels/\"+filename\n",
        "    base=os.path.splitext(pathFile)[0]\n",
        "    file = open(base+ \".txt\", \"w\")\n",
        "    for j in range(numero):\n",
        "      #area_objeto=prop[0].area\n",
        "      #area_objeto\n",
        "      y1,x1,y2,x2=regionprops(objeto)[j].bbox\n",
        "      print(y1,x1,y2,x2)\n",
        "      x1=x1-13\n",
        "      x2=x2+13\n",
        "      y1=y1-13\n",
        "      y2=y2+13\n",
        "      altura=y2-y1\n",
        "      ancho=x2-x1\n",
        "      centrox=x2-(ancho/2)\n",
        "      centroy= y2-(altura/2)\n",
        "      file.write(\"0\"+\" \"+str(round(centrox/512,3))+\" \"+str(round(centroy/512,3))+\" \"+str(round(ancho/512,3))+\" \"+str(round(altura/512,3))+\"\\n\")\n",
        "    file.close()\n",
        "  "
      ],
      "metadata": {
        "id": "Yc-Xc3PII6tW"
      },
      "execution_count": null,
      "outputs": []
    },
    {
      "cell_type": "code",
      "source": [
        "%cd /content/gdrive/MyDrive/TFM1"
      ],
      "metadata": {
        "colab": {
          "base_uri": "https://localhost:8080/"
        },
        "id": "uPGDLMLuKFBk",
        "outputId": "f0a36371-cf05-48f4-9b26-adda85905f7e"
      },
      "execution_count": 3,
      "outputs": [
        {
          "output_type": "stream",
          "name": "stdout",
          "text": [
            "/content/gdrive/MyDrive/TFM1\n"
          ]
        }
      ]
    },
    {
      "cell_type": "markdown",
      "source": [
        "Clonamos el git de ultralitics"
      ],
      "metadata": {
        "id": "uMoYYNVdMWbi"
      }
    },
    {
      "cell_type": "code",
      "source": [
        "!git clone https://github.com/ultralytics/ultralytics.git"
      ],
      "metadata": {
        "colab": {
          "base_uri": "https://localhost:8080/"
        },
        "id": "ydoycm6CKHUO",
        "outputId": "b8d4c5a2-c0b1-40f5-aab0-03234df8d4fd"
      },
      "execution_count": null,
      "outputs": [
        {
          "output_type": "stream",
          "name": "stdout",
          "text": [
            "Cloning into 'ultralytics'...\n",
            "remote: Enumerating objects: 5703, done.\u001b[K\n",
            "remote: Counting objects: 100% (622/622), done.\u001b[K\n",
            "remote: Compressing objects: 100% (325/325), done.\u001b[K\n",
            "remote: Total 5703 (delta 353), reused 471 (delta 288), pack-reused 5081\u001b[K\n",
            "Receiving objects: 100% (5703/5703), 4.66 MiB | 13.04 MiB/s, done.\n",
            "Resolving deltas: 100% (3722/3722), done.\n",
            "Updating files: 100% (189/189), done.\n"
          ]
        }
      ]
    },
    {
      "cell_type": "code",
      "source": [
        "%cd /content/gdrive/MyDrive/TFM1/ultralytics"
      ],
      "metadata": {
        "colab": {
          "base_uri": "https://localhost:8080/"
        },
        "id": "lAIdfqx2KLRb",
        "outputId": "678c5053-6a77-456d-928e-c46bcd01c3f1"
      },
      "execution_count": 4,
      "outputs": [
        {
          "output_type": "stream",
          "name": "stdout",
          "text": [
            "/content/gdrive/MyDrive/TFM1/ultralytics\n"
          ]
        }
      ]
    },
    {
      "cell_type": "markdown",
      "source": [
        "Instalación de Requerimientos"
      ],
      "metadata": {
        "id": "V1uBC1VoMZv6"
      }
    },
    {
      "cell_type": "code",
      "source": [
        "!pip install -r requirements.txt"
      ],
      "metadata": {
        "id": "ezNBNa0gKNi3"
      },
      "execution_count": null,
      "outputs": []
    },
    {
      "cell_type": "markdown",
      "source": [
        "Intalación de Ultralytics"
      ],
      "metadata": {
        "id": "NcwjM7G7MepI"
      }
    },
    {
      "cell_type": "code",
      "source": [
        "!pip install ultralytics"
      ],
      "metadata": {
        "id": "FHkxaCRwKQYN"
      },
      "execution_count": null,
      "outputs": []
    },
    {
      "cell_type": "markdown",
      "source": [
        "Accedemos al Modelo **yolov8m**"
      ],
      "metadata": {
        "id": "zb8iayb4MjIh"
      }
    },
    {
      "cell_type": "code",
      "source": [
        "from ultralytics import YOLO\n",
        "model= YOLO()\n",
        "model= YOLO(\"yolov8m.pt\")"
      ],
      "metadata": {
        "id": "2igMXbHDKSpt"
      },
      "execution_count": 7,
      "outputs": []
    },
    {
      "cell_type": "code",
      "source": [
        "%cd /content/gdrive/MyDrive/TFM1/DATANew"
      ],
      "metadata": {
        "colab": {
          "base_uri": "https://localhost:8080/"
        },
        "id": "ZGCr8gtNKVUG",
        "outputId": "68a9907a-40da-477f-8530-e020659e2aff"
      },
      "execution_count": 8,
      "outputs": [
        {
          "output_type": "stream",
          "name": "stdout",
          "text": [
            "/content/gdrive/MyDrive/TFM1/DATANew\n"
          ]
        }
      ]
    },
    {
      "cell_type": "markdown",
      "source": [
        "Entranamiento"
      ],
      "metadata": {
        "id": "joc0SAqxMpED"
      }
    },
    {
      "cell_type": "code",
      "source": [
        "model.train(data=\"custom_data.yaml\", epochs=150)"
      ],
      "metadata": {
        "colab": {
          "base_uri": "https://localhost:8080/",
          "height": 1000,
          "referenced_widgets": [
            "7a4266abd9744f768a5c6a5616fa4f36",
            "a146ab85d14d45e4b4289d1756a603a7",
            "006946cfd3474990982703f98497697b",
            "a94b53f6b0d04294b08078447976005a",
            "45c2e25ac1fe45449d97bd071bc330f4",
            "f0a5b891d8af42e9936ef13935fe0a93",
            "53ed39d86a3e4129bb68b2669b570dbe",
            "9c1d6192d30d417daeda723a10d47aab",
            "c1a3144826494a0ca2601bc63443a19d",
            "4de346c973aa486d9c33981eebe437b4",
            "d2ce202c16fc45b388dc6754725ed85b"
          ]
        },
        "id": "SF1LbFCuK7jQ",
        "outputId": "b17dee62-57b4-4dda-8f18-9459276535b9"
      },
      "execution_count": 9,
      "outputs": [
        {
          "output_type": "stream",
          "name": "stderr",
          "text": [
            "New https://pypi.org/project/ultralytics/8.0.58 available 😃 Update with 'pip install -U ultralytics'\n",
            "Ultralytics YOLOv8.0.50 🚀 Python-3.9.16 torch-1.13.1+cu116 CUDA:0 (NVIDIA A100-SXM4-40GB, 40514MiB)\n",
            "\u001b[34m\u001b[1myolo/engine/trainer: \u001b[0mtask=detect, mode=train, model=yolov8m.pt, data=custom_data.yaml, epochs=100, patience=50, batch=16, imgsz=640, save=True, save_period=-1, cache=False, device=None, workers=8, project=None, name=None, exist_ok=False, pretrained=False, optimizer=SGD, verbose=True, seed=0, deterministic=True, single_cls=False, image_weights=False, rect=False, cos_lr=False, close_mosaic=10, resume=False, min_memory=False, overlap_mask=True, mask_ratio=4, dropout=0.0, val=True, split=val, save_json=False, save_hybrid=False, conf=None, iou=0.7, max_det=300, half=False, dnn=False, plots=True, source=None, show=False, save_txt=False, save_conf=False, save_crop=False, hide_labels=False, hide_conf=False, vid_stride=1, line_thickness=3, visualize=False, augment=False, agnostic_nms=False, classes=None, retina_masks=False, boxes=True, format=torchscript, keras=False, optimize=False, int8=False, dynamic=False, simplify=False, opset=None, workspace=4, nms=False, lr0=0.01, lrf=0.01, momentum=0.937, weight_decay=0.0005, warmup_epochs=3.0, warmup_momentum=0.8, warmup_bias_lr=0.1, box=7.5, cls=0.5, dfl=1.5, fl_gamma=0.0, label_smoothing=0.0, nbs=64, hsv_h=0.015, hsv_s=0.7, hsv_v=0.4, degrees=0.0, translate=0.1, scale=0.5, shear=0.0, perspective=0.0, flipud=0.0, fliplr=0.5, mosaic=1.0, mixup=0.0, copy_paste=0.0, cfg=None, v5loader=False, tracker=botsort.yaml, save_dir=/content/gdrive/MyDrive/TFM1/ultralytics/runs/detect/train12\n",
            "Downloading https://ultralytics.com/assets/Arial.ttf to /root/.config/Ultralytics/Arial.ttf...\n"
          ]
        },
        {
          "output_type": "display_data",
          "data": {
            "text/plain": [
              "  0%|          | 0.00/755k [00:00<?, ?B/s]"
            ],
            "application/vnd.jupyter.widget-view+json": {
              "version_major": 2,
              "version_minor": 0,
              "model_id": "7a4266abd9744f768a5c6a5616fa4f36"
            }
          },
          "metadata": {}
        },
        {
          "output_type": "stream",
          "name": "stderr",
          "text": [
            "Overriding model.yaml nc=80 with nc=1\n",
            "\n",
            "                   from  n    params  module                                       arguments                     \n",
            "  0                  -1  1      1392  ultralytics.nn.modules.Conv                  [3, 48, 3, 2]                 \n",
            "  1                  -1  1     41664  ultralytics.nn.modules.Conv                  [48, 96, 3, 2]                \n",
            "  2                  -1  2    111360  ultralytics.nn.modules.C2f                   [96, 96, 2, True]             \n",
            "  3                  -1  1    166272  ultralytics.nn.modules.Conv                  [96, 192, 3, 2]               \n",
            "  4                  -1  4    813312  ultralytics.nn.modules.C2f                   [192, 192, 4, True]           \n",
            "  5                  -1  1    664320  ultralytics.nn.modules.Conv                  [192, 384, 3, 2]              \n",
            "  6                  -1  4   3248640  ultralytics.nn.modules.C2f                   [384, 384, 4, True]           \n",
            "  7                  -1  1   1991808  ultralytics.nn.modules.Conv                  [384, 576, 3, 2]              \n",
            "  8                  -1  2   3985920  ultralytics.nn.modules.C2f                   [576, 576, 2, True]           \n",
            "  9                  -1  1    831168  ultralytics.nn.modules.SPPF                  [576, 576, 5]                 \n",
            " 10                  -1  1         0  torch.nn.modules.upsampling.Upsample         [None, 2, 'nearest']          \n",
            " 11             [-1, 6]  1         0  ultralytics.nn.modules.Concat                [1]                           \n",
            " 12                  -1  2   1993728  ultralytics.nn.modules.C2f                   [960, 384, 2]                 \n",
            " 13                  -1  1         0  torch.nn.modules.upsampling.Upsample         [None, 2, 'nearest']          \n",
            " 14             [-1, 4]  1         0  ultralytics.nn.modules.Concat                [1]                           \n",
            " 15                  -1  2    517632  ultralytics.nn.modules.C2f                   [576, 192, 2]                 \n",
            " 16                  -1  1    332160  ultralytics.nn.modules.Conv                  [192, 192, 3, 2]              \n",
            " 17            [-1, 12]  1         0  ultralytics.nn.modules.Concat                [1]                           \n",
            " 18                  -1  2   1846272  ultralytics.nn.modules.C2f                   [576, 384, 2]                 \n",
            " 19                  -1  1   1327872  ultralytics.nn.modules.Conv                  [384, 384, 3, 2]              \n",
            " 20             [-1, 9]  1         0  ultralytics.nn.modules.Concat                [1]                           \n",
            " 21                  -1  2   4207104  ultralytics.nn.modules.C2f                   [960, 576, 2]                 \n",
            " 22        [15, 18, 21]  1   3776275  ultralytics.nn.modules.Detect                [1, [192, 384, 576]]          \n",
            "\n",
            "Transferred 469/475 items from pretrained weights\n",
            "\u001b[34m\u001b[1mAMP: \u001b[0mrunning Automatic Mixed Precision (AMP) checks with YOLOv8n...\n",
            "\u001b[34m\u001b[1mAMP: \u001b[0mchecks failed ❌. Anomalies were detected with AMP on your system that may lead to NaN losses or zero-mAP results, so AMP will be disabled during training.\n",
            "\u001b[34m\u001b[1moptimizer:\u001b[0m SGD(lr=0.01) with parameter groups 77 weight(decay=0.0), 84 weight(decay=0.0005), 83 bias\n",
            "\u001b[34m\u001b[1mtrain: \u001b[0mScanning /content/gdrive/MyDrive/TFM1/DATANew/dataset/train/labels... 791 images, 0 backgrounds, 0 corrupt: 100%|██████████| 791/791 [00:56<00:00, 14.03it/s]\n",
            "\u001b[34m\u001b[1mtrain: \u001b[0mNew cache created: /content/gdrive/MyDrive/TFM1/DATANew/dataset/train/labels.cache\n",
            "\u001b[34m\u001b[1malbumentations: \u001b[0mBlur(p=0.01, blur_limit=(3, 7)), MedianBlur(p=0.01, blur_limit=(3, 7)), ToGray(p=0.01), CLAHE(p=0.01, clip_limit=(1, 4.0), tile_grid_size=(8, 8))\n",
            "\u001b[34m\u001b[1mval: \u001b[0mScanning /content/gdrive/MyDrive/TFM1/DATANew/dataset/val/labels... 226 images, 0 backgrounds, 0 corrupt: 100%|██████████| 226/226 [00:16<00:00, 13.78it/s]\n",
            "\u001b[34m\u001b[1mval: \u001b[0mNew cache created: /content/gdrive/MyDrive/TFM1/DATANew/dataset/val/labels.cache\n",
            "Plotting labels to /content/gdrive/MyDrive/TFM1/ultralytics/runs/detect/train12/labels.jpg... \n",
            "Image sizes 640 train, 640 val\n",
            "Using 8 dataloader workers\n",
            "Logging results to \u001b[1m/content/gdrive/MyDrive/TFM1/ultralytics/runs/detect/train12\u001b[0m\n",
            "Starting training for 100 epochs...\n",
            "\n",
            "      Epoch    GPU_mem   box_loss   cls_loss   dfl_loss  Instances       Size\n",
            "      1/100      12.9G      3.048      4.337      2.686          9        640: 100%|██████████| 50/50 [00:12<00:00,  3.86it/s]\n",
            "                 Class     Images  Instances      Box(P          R      mAP50  mAP50-95): 100%|██████████| 8/8 [00:04<00:00,  1.86it/s]\n",
            "                   all        226        304      0.265      0.184      0.133      0.061\n",
            "\n",
            "      Epoch    GPU_mem   box_loss   cls_loss   dfl_loss  Instances       Size\n",
            "      2/100      13.5G      2.051      3.219      1.941         11        640: 100%|██████████| 50/50 [00:10<00:00,  4.85it/s]\n",
            "                 Class     Images  Instances      Box(P          R      mAP50  mAP50-95): 100%|██████████| 8/8 [00:02<00:00,  2.90it/s]\n",
            "                   all        226        304      0.394       0.28      0.235      0.154\n",
            "\n",
            "      Epoch    GPU_mem   box_loss   cls_loss   dfl_loss  Instances       Size\n",
            "      3/100      13.5G      1.837      2.835      1.786         11        640: 100%|██████████| 50/50 [00:10<00:00,  4.92it/s]\n",
            "                 Class     Images  Instances      Box(P          R      mAP50  mAP50-95): 100%|██████████| 8/8 [00:03<00:00,  2.42it/s]\n",
            "                   all        226        304      0.386       0.24      0.206      0.124\n",
            "\n",
            "      Epoch    GPU_mem   box_loss   cls_loss   dfl_loss  Instances       Size\n",
            "      4/100      13.5G      1.812      2.797      1.729         11        640: 100%|██████████| 50/50 [00:10<00:00,  4.94it/s]\n",
            "                 Class     Images  Instances      Box(P          R      mAP50  mAP50-95): 100%|██████████| 8/8 [00:03<00:00,  2.58it/s]\n",
            "                   all        226        304      0.346      0.316      0.209      0.146\n",
            "\n",
            "      Epoch    GPU_mem   box_loss   cls_loss   dfl_loss  Instances       Size\n",
            "      5/100      13.5G      1.812       2.57      1.761          6        640: 100%|██████████| 50/50 [00:10<00:00,  4.92it/s]\n",
            "                 Class     Images  Instances      Box(P          R      mAP50  mAP50-95): 100%|██████████| 8/8 [00:02<00:00,  2.74it/s]\n",
            "                   all        226        304      0.591      0.326       0.32       0.23\n",
            "\n",
            "      Epoch    GPU_mem   box_loss   cls_loss   dfl_loss  Instances       Size\n",
            "      6/100      13.5G      1.767      2.478      1.731         18        640: 100%|██████████| 50/50 [00:10<00:00,  4.76it/s]\n",
            "                 Class     Images  Instances      Box(P          R      mAP50  mAP50-95): 100%|██████████| 8/8 [00:03<00:00,  2.65it/s]\n",
            "                   all        226        304      0.533      0.309      0.306      0.218\n",
            "\n",
            "      Epoch    GPU_mem   box_loss   cls_loss   dfl_loss  Instances       Size\n",
            "      7/100      13.5G      1.713      2.434       1.68         15        640: 100%|██████████| 50/50 [00:10<00:00,  4.91it/s]\n",
            "                 Class     Images  Instances      Box(P          R      mAP50  mAP50-95): 100%|██████████| 8/8 [00:02<00:00,  2.80it/s]\n",
            "                   all        226        304      0.523      0.352      0.328      0.215\n",
            "\n",
            "      Epoch    GPU_mem   box_loss   cls_loss   dfl_loss  Instances       Size\n",
            "      8/100      13.5G      1.704      2.391      1.673         16        640: 100%|██████████| 50/50 [00:10<00:00,  4.91it/s]\n",
            "                 Class     Images  Instances      Box(P          R      mAP50  mAP50-95): 100%|██████████| 8/8 [00:02<00:00,  2.89it/s]\n",
            "                   all        226        304      0.613      0.329      0.343      0.189\n",
            "\n",
            "      Epoch    GPU_mem   box_loss   cls_loss   dfl_loss  Instances       Size\n",
            "      9/100      13.5G      1.711      2.328      1.645         12        640: 100%|██████████| 50/50 [00:10<00:00,  4.92it/s]\n",
            "                 Class     Images  Instances      Box(P          R      mAP50  mAP50-95): 100%|██████████| 8/8 [00:02<00:00,  2.94it/s]\n",
            "                   all        226        304      0.604      0.283      0.266      0.127\n",
            "\n",
            "      Epoch    GPU_mem   box_loss   cls_loss   dfl_loss  Instances       Size\n",
            "     10/100      13.5G      1.629      2.161      1.577         12        640: 100%|██████████| 50/50 [00:10<00:00,  4.79it/s]\n",
            "                 Class     Images  Instances      Box(P          R      mAP50  mAP50-95): 100%|██████████| 8/8 [00:02<00:00,  2.73it/s]\n",
            "                   all        226        304      0.669      0.368      0.367      0.256\n",
            "\n",
            "      Epoch    GPU_mem   box_loss   cls_loss   dfl_loss  Instances       Size\n",
            "     11/100      13.5G      1.586      2.116      1.573          7        640: 100%|██████████| 50/50 [00:10<00:00,  4.65it/s]\n",
            "                 Class     Images  Instances      Box(P          R      mAP50  mAP50-95): 100%|██████████| 8/8 [00:02<00:00,  2.71it/s]\n",
            "                   all        226        304      0.707      0.388      0.385      0.268\n",
            "\n",
            "      Epoch    GPU_mem   box_loss   cls_loss   dfl_loss  Instances       Size\n",
            "     12/100      13.5G      1.581      2.099      1.577         14        640: 100%|██████████| 50/50 [00:10<00:00,  4.89it/s]\n",
            "                 Class     Images  Instances      Box(P          R      mAP50  mAP50-95): 100%|██████████| 8/8 [00:03<00:00,  2.62it/s]\n",
            "                   all        226        304       0.63      0.382      0.373      0.269\n",
            "\n",
            "      Epoch    GPU_mem   box_loss   cls_loss   dfl_loss  Instances       Size\n",
            "     13/100      13.5G      1.518      2.059      1.546          9        640: 100%|██████████| 50/50 [00:10<00:00,  4.89it/s]\n",
            "                 Class     Images  Instances      Box(P          R      mAP50  mAP50-95): 100%|██████████| 8/8 [00:03<00:00,  2.64it/s]\n",
            "                   all        226        304      0.748      0.371      0.385      0.294\n",
            "\n",
            "      Epoch    GPU_mem   box_loss   cls_loss   dfl_loss  Instances       Size\n",
            "     14/100      13.5G      1.525      2.028      1.561         25        640: 100%|██████████| 50/50 [00:10<00:00,  4.95it/s]\n",
            "                 Class     Images  Instances      Box(P          R      mAP50  mAP50-95): 100%|██████████| 8/8 [00:02<00:00,  2.74it/s]\n",
            "                   all        226        304      0.705      0.365       0.37      0.253\n",
            "\n",
            "      Epoch    GPU_mem   box_loss   cls_loss   dfl_loss  Instances       Size\n",
            "     15/100      13.5G      1.507      2.031       1.55         10        640: 100%|██████████| 50/50 [00:10<00:00,  4.96it/s]\n",
            "                 Class     Images  Instances      Box(P          R      mAP50  mAP50-95): 100%|██████████| 8/8 [00:02<00:00,  2.87it/s]\n",
            "                   all        226        304      0.685      0.355      0.382      0.268\n",
            "\n",
            "      Epoch    GPU_mem   box_loss   cls_loss   dfl_loss  Instances       Size\n",
            "     16/100      13.5G      1.467      1.981      1.496          9        640: 100%|██████████| 50/50 [00:10<00:00,  4.81it/s]\n",
            "                 Class     Images  Instances      Box(P          R      mAP50  mAP50-95): 100%|██████████| 8/8 [00:02<00:00,  2.84it/s]\n",
            "                   all        226        304      0.441      0.352      0.301      0.219\n",
            "\n",
            "      Epoch    GPU_mem   box_loss   cls_loss   dfl_loss  Instances       Size\n",
            "     17/100      13.5G      1.468      1.872      1.495         12        640: 100%|██████████| 50/50 [00:10<00:00,  4.96it/s]\n",
            "                 Class     Images  Instances      Box(P          R      mAP50  mAP50-95): 100%|██████████| 8/8 [00:02<00:00,  2.86it/s]\n",
            "                   all        226        304       0.73      0.349      0.371      0.293\n",
            "\n",
            "      Epoch    GPU_mem   box_loss   cls_loss   dfl_loss  Instances       Size\n",
            "     18/100      13.5G      1.502      1.954       1.54         16        640: 100%|██████████| 50/50 [00:10<00:00,  4.95it/s]\n",
            "                 Class     Images  Instances      Box(P          R      mAP50  mAP50-95): 100%|██████████| 8/8 [00:02<00:00,  2.73it/s]\n",
            "                   all        226        304      0.673      0.365      0.389      0.274\n",
            "\n",
            "      Epoch    GPU_mem   box_loss   cls_loss   dfl_loss  Instances       Size\n",
            "     19/100      13.5G      1.458      1.956      1.498         12        640: 100%|██████████| 50/50 [00:10<00:00,  4.94it/s]\n",
            "                 Class     Images  Instances      Box(P          R      mAP50  mAP50-95): 100%|██████████| 8/8 [00:02<00:00,  2.78it/s]\n",
            "                   all        226        304      0.732      0.342      0.364      0.237\n",
            "\n",
            "      Epoch    GPU_mem   box_loss   cls_loss   dfl_loss  Instances       Size\n",
            "     20/100      13.5G      1.398       1.78      1.446         17        640: 100%|██████████| 50/50 [00:10<00:00,  4.88it/s]\n",
            "                 Class     Images  Instances      Box(P          R      mAP50  mAP50-95): 100%|██████████| 8/8 [00:02<00:00,  2.86it/s]\n",
            "                   all        226        304      0.692      0.401      0.412      0.292\n",
            "\n",
            "      Epoch    GPU_mem   box_loss   cls_loss   dfl_loss  Instances       Size\n",
            "     21/100      13.5G      1.379      1.798      1.453         13        640: 100%|██████████| 50/50 [00:10<00:00,  4.87it/s]\n",
            "                 Class     Images  Instances      Box(P          R      mAP50  mAP50-95): 100%|██████████| 8/8 [00:02<00:00,  2.94it/s]\n",
            "                   all        226        304       0.65      0.339      0.357      0.245\n",
            "\n",
            "      Epoch    GPU_mem   box_loss   cls_loss   dfl_loss  Instances       Size\n",
            "     22/100      13.5G      1.385      1.829      1.454         12        640: 100%|██████████| 50/50 [00:10<00:00,  4.92it/s]\n",
            "                 Class     Images  Instances      Box(P          R      mAP50  mAP50-95): 100%|██████████| 8/8 [00:02<00:00,  2.67it/s]\n",
            "                   all        226        304      0.796      0.384      0.412      0.305\n",
            "\n",
            "      Epoch    GPU_mem   box_loss   cls_loss   dfl_loss  Instances       Size\n",
            "     23/100      13.5G      1.361      1.734       1.44         16        640: 100%|██████████| 50/50 [00:10<00:00,  4.95it/s]\n",
            "                 Class     Images  Instances      Box(P          R      mAP50  mAP50-95): 100%|██████████| 8/8 [00:02<00:00,  2.83it/s]\n",
            "                   all        226        304      0.701      0.382      0.402      0.291\n",
            "\n",
            "      Epoch    GPU_mem   box_loss   cls_loss   dfl_loss  Instances       Size\n",
            "     24/100      13.5G      1.332      1.662      1.423          7        640: 100%|██████████| 50/50 [00:10<00:00,  4.96it/s]\n",
            "                 Class     Images  Instances      Box(P          R      mAP50  mAP50-95): 100%|██████████| 8/8 [00:02<00:00,  2.81it/s]\n",
            "                   all        226        304      0.771      0.368      0.413      0.301\n",
            "\n",
            "      Epoch    GPU_mem   box_loss   cls_loss   dfl_loss  Instances       Size\n",
            "     25/100      13.5G      1.323      1.662      1.433         14        640: 100%|██████████| 50/50 [00:10<00:00,  4.95it/s]\n",
            "                 Class     Images  Instances      Box(P          R      mAP50  mAP50-95): 100%|██████████| 8/8 [00:02<00:00,  2.85it/s]\n",
            "                   all        226        304      0.716      0.421      0.453      0.337\n",
            "\n",
            "      Epoch    GPU_mem   box_loss   cls_loss   dfl_loss  Instances       Size\n",
            "     26/100      13.5G      1.286      1.553      1.411         13        640: 100%|██████████| 50/50 [00:10<00:00,  4.83it/s]\n",
            "                 Class     Images  Instances      Box(P          R      mAP50  mAP50-95): 100%|██████████| 8/8 [00:02<00:00,  2.84it/s]\n",
            "                   all        226        304      0.772      0.414      0.471      0.327\n",
            "\n",
            "      Epoch    GPU_mem   box_loss   cls_loss   dfl_loss  Instances       Size\n",
            "     27/100      13.5G      1.264      1.496      1.392         14        640: 100%|██████████| 50/50 [00:10<00:00,  4.95it/s]\n",
            "                 Class     Images  Instances      Box(P          R      mAP50  mAP50-95): 100%|██████████| 8/8 [00:02<00:00,  2.80it/s]\n",
            "                   all        226        304      0.871        0.4      0.486      0.339\n",
            "\n",
            "      Epoch    GPU_mem   box_loss   cls_loss   dfl_loss  Instances       Size\n",
            "     28/100      13.5G      1.229      1.432      1.366         13        640: 100%|██████████| 50/50 [00:10<00:00,  4.87it/s]\n",
            "                 Class     Images  Instances      Box(P          R      mAP50  mAP50-95): 100%|██████████| 8/8 [00:02<00:00,  2.77it/s]\n",
            "                   all        226        304      0.811      0.452      0.518      0.376\n",
            "\n",
            "      Epoch    GPU_mem   box_loss   cls_loss   dfl_loss  Instances       Size\n",
            "     29/100      13.5G      1.222      1.396      1.361         15        640: 100%|██████████| 50/50 [00:10<00:00,  4.98it/s]\n",
            "                 Class     Images  Instances      Box(P          R      mAP50  mAP50-95): 100%|██████████| 8/8 [00:02<00:00,  2.68it/s]\n",
            "                   all        226        304      0.812       0.47      0.533      0.408\n",
            "\n",
            "      Epoch    GPU_mem   box_loss   cls_loss   dfl_loss  Instances       Size\n",
            "     30/100      13.5G      1.166      1.225      1.319         10        640: 100%|██████████| 50/50 [00:10<00:00,  4.90it/s]\n",
            "                 Class     Images  Instances      Box(P          R      mAP50  mAP50-95): 100%|██████████| 8/8 [00:03<00:00,  2.64it/s]\n",
            "                   all        226        304      0.759      0.497       0.54      0.395\n",
            "\n",
            "      Epoch    GPU_mem   box_loss   cls_loss   dfl_loss  Instances       Size\n",
            "     31/100      13.5G      1.173      1.293      1.316         14        640: 100%|██████████| 50/50 [00:10<00:00,  4.89it/s]\n",
            "                 Class     Images  Instances      Box(P          R      mAP50  mAP50-95): 100%|██████████| 8/8 [00:02<00:00,  2.77it/s]\n",
            "                   all        226        304      0.747      0.444      0.466      0.332\n",
            "\n",
            "      Epoch    GPU_mem   box_loss   cls_loss   dfl_loss  Instances       Size\n",
            "     32/100      13.5G      1.112      1.223      1.291         13        640: 100%|██████████| 50/50 [00:10<00:00,  4.90it/s]\n",
            "                 Class     Images  Instances      Box(P          R      mAP50  mAP50-95): 100%|██████████| 8/8 [00:02<00:00,  2.72it/s]\n",
            "                   all        226        304      0.837        0.5      0.564      0.422\n",
            "\n",
            "      Epoch    GPU_mem   box_loss   cls_loss   dfl_loss  Instances       Size\n",
            "     33/100      13.5G      1.112      1.221      1.284         13        640: 100%|██████████| 50/50 [00:10<00:00,  4.89it/s]\n",
            "                 Class     Images  Instances      Box(P          R      mAP50  mAP50-95): 100%|██████████| 8/8 [00:02<00:00,  2.74it/s]\n",
            "                   all        226        304      0.812      0.513      0.583      0.442\n",
            "\n",
            "      Epoch    GPU_mem   box_loss   cls_loss   dfl_loss  Instances       Size\n",
            "     34/100      13.5G      1.071      1.137      1.264         12        640: 100%|██████████| 50/50 [00:10<00:00,  4.90it/s]\n",
            "                 Class     Images  Instances      Box(P          R      mAP50  mAP50-95): 100%|██████████| 8/8 [00:02<00:00,  2.70it/s]\n",
            "                   all        226        304      0.846      0.572      0.613      0.474\n",
            "\n",
            "      Epoch    GPU_mem   box_loss   cls_loss   dfl_loss  Instances       Size\n",
            "     35/100      13.5G      1.069      1.114      1.247         20        640: 100%|██████████| 50/50 [00:10<00:00,  4.92it/s]\n",
            "                 Class     Images  Instances      Box(P          R      mAP50  mAP50-95): 100%|██████████| 8/8 [00:02<00:00,  2.78it/s]\n",
            "                   all        226        304      0.868      0.503       0.59      0.457\n",
            "\n",
            "      Epoch    GPU_mem   box_loss   cls_loss   dfl_loss  Instances       Size\n",
            "     36/100      13.5G      1.068      1.141      1.264          8        640: 100%|██████████| 50/50 [00:10<00:00,  4.95it/s]\n",
            "                 Class     Images  Instances      Box(P          R      mAP50  mAP50-95): 100%|██████████| 8/8 [00:02<00:00,  2.85it/s]\n",
            "                   all        226        304      0.828      0.539      0.611      0.464\n",
            "\n",
            "      Epoch    GPU_mem   box_loss   cls_loss   dfl_loss  Instances       Size\n",
            "     37/100      13.5G       1.03      1.041      1.222         17        640: 100%|██████████| 50/50 [00:10<00:00,  4.92it/s]\n",
            "                 Class     Images  Instances      Box(P          R      mAP50  mAP50-95): 100%|██████████| 8/8 [00:02<00:00,  2.85it/s]\n",
            "                   all        226        304      0.853      0.554      0.613      0.482\n",
            "\n",
            "      Epoch    GPU_mem   box_loss   cls_loss   dfl_loss  Instances       Size\n",
            "     38/100      13.5G      1.042      1.073       1.25          6        640: 100%|██████████| 50/50 [00:10<00:00,  4.88it/s]\n",
            "                 Class     Images  Instances      Box(P          R      mAP50  mAP50-95): 100%|██████████| 8/8 [00:02<00:00,  2.87it/s]\n",
            "                   all        226        304      0.814      0.591      0.646      0.506\n",
            "\n",
            "      Epoch    GPU_mem   box_loss   cls_loss   dfl_loss  Instances       Size\n",
            "     39/100      13.5G     0.9908     0.9888      1.198         18        640: 100%|██████████| 50/50 [00:10<00:00,  4.80it/s]\n",
            "                 Class     Images  Instances      Box(P          R      mAP50  mAP50-95): 100%|██████████| 8/8 [00:02<00:00,  2.67it/s]\n",
            "                   all        226        304      0.843      0.543       0.62      0.466\n",
            "\n",
            "      Epoch    GPU_mem   box_loss   cls_loss   dfl_loss  Instances       Size\n",
            "     40/100      13.5G      1.033      1.034      1.249         12        640: 100%|██████████| 50/50 [00:10<00:00,  4.90it/s]\n",
            "                 Class     Images  Instances      Box(P          R      mAP50  mAP50-95): 100%|██████████| 8/8 [00:02<00:00,  2.78it/s]\n",
            "                   all        226        304      0.897      0.609      0.685      0.541\n",
            "\n",
            "      Epoch    GPU_mem   box_loss   cls_loss   dfl_loss  Instances       Size\n",
            "     41/100      13.5G     0.9699     0.9588       1.19         10        640: 100%|██████████| 50/50 [00:10<00:00,  4.89it/s]\n",
            "                 Class     Images  Instances      Box(P          R      mAP50  mAP50-95): 100%|██████████| 8/8 [00:02<00:00,  2.75it/s]\n",
            "                   all        226        304      0.859      0.635      0.695      0.539\n",
            "\n",
            "      Epoch    GPU_mem   box_loss   cls_loss   dfl_loss  Instances       Size\n",
            "     42/100      13.5G     0.9562     0.8797      1.164         11        640: 100%|██████████| 50/50 [00:10<00:00,  4.92it/s]\n",
            "                 Class     Images  Instances      Box(P          R      mAP50  mAP50-95): 100%|██████████| 8/8 [00:02<00:00,  2.81it/s]\n",
            "                   all        226        304      0.824      0.587      0.648        0.5\n",
            "\n",
            "      Epoch    GPU_mem   box_loss   cls_loss   dfl_loss  Instances       Size\n",
            "     43/100      13.5G     0.9382     0.8827      1.156         15        640: 100%|██████████| 50/50 [00:10<00:00,  4.95it/s]\n",
            "                 Class     Images  Instances      Box(P          R      mAP50  mAP50-95): 100%|██████████| 8/8 [00:02<00:00,  2.81it/s]\n",
            "                   all        226        304      0.845      0.641        0.7      0.543\n",
            "\n",
            "      Epoch    GPU_mem   box_loss   cls_loss   dfl_loss  Instances       Size\n",
            "     44/100      13.5G     0.9476     0.9259      1.184         10        640: 100%|██████████| 50/50 [00:10<00:00,  4.93it/s]\n",
            "                 Class     Images  Instances      Box(P          R      mAP50  mAP50-95): 100%|██████████| 8/8 [00:02<00:00,  2.71it/s]\n",
            "                   all        226        304      0.881      0.657      0.714      0.561\n",
            "\n",
            "      Epoch    GPU_mem   box_loss   cls_loss   dfl_loss  Instances       Size\n",
            "     45/100      13.5G     0.9243     0.8458      1.154         17        640: 100%|██████████| 50/50 [00:10<00:00,  4.88it/s]\n",
            "                 Class     Images  Instances      Box(P          R      mAP50  mAP50-95): 100%|██████████| 8/8 [00:02<00:00,  2.78it/s]\n",
            "                   all        226        304      0.888      0.651      0.722      0.565\n",
            "\n",
            "      Epoch    GPU_mem   box_loss   cls_loss   dfl_loss  Instances       Size\n",
            "     46/100      13.5G     0.9206     0.8274      1.154         16        640: 100%|██████████| 50/50 [00:10<00:00,  4.86it/s]\n",
            "                 Class     Images  Instances      Box(P          R      mAP50  mAP50-95): 100%|██████████| 8/8 [00:02<00:00,  2.80it/s]\n",
            "                   all        226        304      0.935      0.659      0.741      0.586\n",
            "\n",
            "      Epoch    GPU_mem   box_loss   cls_loss   dfl_loss  Instances       Size\n",
            "     47/100      13.5G     0.8852     0.8382      1.128         13        640: 100%|██████████| 50/50 [00:10<00:00,  4.84it/s]\n",
            "                 Class     Images  Instances      Box(P          R      mAP50  mAP50-95): 100%|██████████| 8/8 [00:03<00:00,  2.65it/s]\n",
            "                   all        226        304      0.935      0.664       0.75      0.599\n",
            "\n",
            "      Epoch    GPU_mem   box_loss   cls_loss   dfl_loss  Instances       Size\n",
            "     48/100      13.5G     0.9083     0.8301      1.148         15        640: 100%|██████████| 50/50 [00:10<00:00,  4.91it/s]\n",
            "                 Class     Images  Instances      Box(P          R      mAP50  mAP50-95): 100%|██████████| 8/8 [00:02<00:00,  2.81it/s]\n",
            "                   all        226        304      0.913      0.681       0.75      0.606\n",
            "\n",
            "      Epoch    GPU_mem   box_loss   cls_loss   dfl_loss  Instances       Size\n",
            "     49/100      13.5G     0.8567      0.792      1.128         13        640: 100%|██████████| 50/50 [00:10<00:00,  4.74it/s]\n",
            "                 Class     Images  Instances      Box(P          R      mAP50  mAP50-95): 100%|██████████| 8/8 [00:02<00:00,  2.70it/s]\n",
            "                   all        226        304       0.86      0.685      0.736      0.596\n",
            "\n",
            "      Epoch    GPU_mem   box_loss   cls_loss   dfl_loss  Instances       Size\n",
            "     50/100      13.5G     0.8305      0.771      1.111         14        640: 100%|██████████| 50/50 [00:10<00:00,  4.91it/s]\n",
            "                 Class     Images  Instances      Box(P          R      mAP50  mAP50-95): 100%|██████████| 8/8 [00:02<00:00,  2.80it/s]\n",
            "                   all        226        304      0.916      0.691      0.752      0.604\n",
            "\n",
            "      Epoch    GPU_mem   box_loss   cls_loss   dfl_loss  Instances       Size\n",
            "     51/100      13.5G     0.8519     0.7115      1.108         13        640: 100%|██████████| 50/50 [00:10<00:00,  4.91it/s]\n",
            "                 Class     Images  Instances      Box(P          R      mAP50  mAP50-95): 100%|██████████| 8/8 [00:02<00:00,  2.81it/s]\n",
            "                   all        226        304       0.95      0.707      0.759      0.595\n",
            "\n",
            "      Epoch    GPU_mem   box_loss   cls_loss   dfl_loss  Instances       Size\n",
            "     52/100      13.5G     0.8251     0.6658        1.1          6        640: 100%|██████████| 50/50 [00:10<00:00,  4.89it/s]\n",
            "                 Class     Images  Instances      Box(P          R      mAP50  mAP50-95): 100%|██████████| 8/8 [00:02<00:00,  2.81it/s]\n",
            "                   all        226        304      0.875      0.717      0.763      0.613\n",
            "\n",
            "      Epoch    GPU_mem   box_loss   cls_loss   dfl_loss  Instances       Size\n",
            "     53/100      13.5G     0.8079     0.6844      1.082         10        640: 100%|██████████| 50/50 [00:10<00:00,  4.86it/s]\n",
            "                 Class     Images  Instances      Box(P          R      mAP50  mAP50-95): 100%|██████████| 8/8 [00:02<00:00,  2.75it/s]\n",
            "                   all        226        304      0.896      0.681      0.746      0.571\n",
            "\n",
            "      Epoch    GPU_mem   box_loss   cls_loss   dfl_loss  Instances       Size\n",
            "     54/100      13.5G     0.8156     0.7064      1.096         18        640: 100%|██████████| 50/50 [00:10<00:00,  4.91it/s]\n",
            "                 Class     Images  Instances      Box(P          R      mAP50  mAP50-95): 100%|██████████| 8/8 [00:02<00:00,  2.69it/s]\n",
            "                   all        226        304      0.916      0.716      0.774      0.624\n",
            "\n",
            "      Epoch    GPU_mem   box_loss   cls_loss   dfl_loss  Instances       Size\n",
            "     55/100      13.5G     0.7931     0.6436      1.068         13        640: 100%|██████████| 50/50 [00:10<00:00,  4.94it/s]\n",
            "                 Class     Images  Instances      Box(P          R      mAP50  mAP50-95): 100%|██████████| 8/8 [00:02<00:00,  2.73it/s]\n",
            "                   all        226        304       0.95      0.683      0.763      0.627\n",
            "\n",
            "      Epoch    GPU_mem   box_loss   cls_loss   dfl_loss  Instances       Size\n",
            "     56/100      13.5G     0.7851     0.6501      1.085         12        640: 100%|██████████| 50/50 [00:10<00:00,  4.89it/s]\n",
            "                 Class     Images  Instances      Box(P          R      mAP50  mAP50-95): 100%|██████████| 8/8 [00:02<00:00,  2.84it/s]\n",
            "                   all        226        304      0.923      0.711      0.781      0.637\n",
            "\n",
            "      Epoch    GPU_mem   box_loss   cls_loss   dfl_loss  Instances       Size\n",
            "     57/100      13.5G     0.7899     0.6888      1.073         18        640: 100%|██████████| 50/50 [00:10<00:00,  4.90it/s]\n",
            "                 Class     Images  Instances      Box(P          R      mAP50  mAP50-95): 100%|██████████| 8/8 [00:02<00:00,  2.72it/s]\n",
            "                   all        226        304      0.932      0.725      0.807      0.653\n",
            "\n",
            "      Epoch    GPU_mem   box_loss   cls_loss   dfl_loss  Instances       Size\n",
            "     58/100      13.5G       0.78     0.6558      1.068         19        640: 100%|██████████| 50/50 [00:10<00:00,  4.94it/s]\n",
            "                 Class     Images  Instances      Box(P          R      mAP50  mAP50-95): 100%|██████████| 8/8 [00:02<00:00,  2.87it/s]\n",
            "                   all        226        304      0.945      0.728      0.804      0.659\n",
            "\n",
            "      Epoch    GPU_mem   box_loss   cls_loss   dfl_loss  Instances       Size\n",
            "     59/100      13.5G     0.7761     0.6651      1.082         23        640: 100%|██████████| 50/50 [00:10<00:00,  4.93it/s]\n",
            "                 Class     Images  Instances      Box(P          R      mAP50  mAP50-95): 100%|██████████| 8/8 [00:02<00:00,  2.69it/s]\n",
            "                   all        226        304      0.917      0.737      0.797      0.656\n",
            "\n",
            "      Epoch    GPU_mem   box_loss   cls_loss   dfl_loss  Instances       Size\n",
            "     60/100      13.5G     0.7746     0.6854      1.064         16        640: 100%|██████████| 50/50 [00:10<00:00,  4.84it/s]\n",
            "                 Class     Images  Instances      Box(P          R      mAP50  mAP50-95): 100%|██████████| 8/8 [00:02<00:00,  2.80it/s]\n",
            "                   all        226        304      0.918      0.727        0.8      0.666\n",
            "\n",
            "      Epoch    GPU_mem   box_loss   cls_loss   dfl_loss  Instances       Size\n",
            "     61/100      13.5G     0.7443      0.639      1.046         16        640: 100%|██████████| 50/50 [00:10<00:00,  4.93it/s]\n",
            "                 Class     Images  Instances      Box(P          R      mAP50  mAP50-95): 100%|██████████| 8/8 [00:03<00:00,  2.64it/s]\n",
            "                   all        226        304      0.947      0.694      0.792      0.651\n",
            "\n",
            "      Epoch    GPU_mem   box_loss   cls_loss   dfl_loss  Instances       Size\n",
            "     62/100      13.5G     0.7313     0.5987      1.055         20        640: 100%|██████████| 50/50 [00:10<00:00,  4.94it/s]\n",
            "                 Class     Images  Instances      Box(P          R      mAP50  mAP50-95): 100%|██████████| 8/8 [00:02<00:00,  2.79it/s]\n",
            "                   all        226        304       0.91      0.736      0.821      0.676\n",
            "\n",
            "      Epoch    GPU_mem   box_loss   cls_loss   dfl_loss  Instances       Size\n",
            "     63/100      13.5G     0.7354     0.6216      1.038         17        640: 100%|██████████| 50/50 [00:10<00:00,  4.89it/s]\n",
            "                 Class     Images  Instances      Box(P          R      mAP50  mAP50-95): 100%|██████████| 8/8 [00:02<00:00,  2.73it/s]\n",
            "                   all        226        304       0.91      0.764      0.818      0.678\n",
            "\n",
            "      Epoch    GPU_mem   box_loss   cls_loss   dfl_loss  Instances       Size\n",
            "     64/100      13.5G     0.7285     0.5876      1.041          4        640: 100%|██████████| 50/50 [00:10<00:00,  4.78it/s]\n",
            "                 Class     Images  Instances      Box(P          R      mAP50  mAP50-95): 100%|██████████| 8/8 [00:02<00:00,  2.79it/s]\n",
            "                   all        226        304      0.905      0.781      0.829      0.685\n",
            "\n",
            "      Epoch    GPU_mem   box_loss   cls_loss   dfl_loss  Instances       Size\n",
            "     65/100      13.5G     0.7212     0.5825       1.04         15        640: 100%|██████████| 50/50 [00:10<00:00,  4.92it/s]\n",
            "                 Class     Images  Instances      Box(P          R      mAP50  mAP50-95): 100%|██████████| 8/8 [00:02<00:00,  2.75it/s]\n",
            "                   all        226        304      0.917       0.76      0.836      0.689\n",
            "\n",
            "      Epoch    GPU_mem   box_loss   cls_loss   dfl_loss  Instances       Size\n",
            "     66/100      13.5G     0.7156     0.5882      1.041          9        640: 100%|██████████| 50/50 [00:10<00:00,  4.87it/s]\n",
            "                 Class     Images  Instances      Box(P          R      mAP50  mAP50-95): 100%|██████████| 8/8 [00:02<00:00,  2.72it/s]\n",
            "                   all        226        304      0.909       0.79      0.847      0.716\n",
            "\n",
            "      Epoch    GPU_mem   box_loss   cls_loss   dfl_loss  Instances       Size\n",
            "     67/100      13.5G     0.6936     0.5534      1.018         14        640: 100%|██████████| 50/50 [00:10<00:00,  4.85it/s]\n",
            "                 Class     Images  Instances      Box(P          R      mAP50  mAP50-95): 100%|██████████| 8/8 [00:02<00:00,  2.77it/s]\n",
            "                   all        226        304      0.918      0.775      0.837      0.703\n",
            "\n",
            "      Epoch    GPU_mem   box_loss   cls_loss   dfl_loss  Instances       Size\n",
            "     68/100      13.5G     0.7012     0.5733      1.006         11        640: 100%|██████████| 50/50 [00:10<00:00,  4.66it/s]\n",
            "                 Class     Images  Instances      Box(P          R      mAP50  mAP50-95): 100%|██████████| 8/8 [00:02<00:00,  2.77it/s]\n",
            "                   all        226        304      0.928       0.78      0.831      0.695\n",
            "\n",
            "      Epoch    GPU_mem   box_loss   cls_loss   dfl_loss  Instances       Size\n",
            "     69/100      13.5G     0.6713     0.5361      1.001         26        640: 100%|██████████| 50/50 [00:10<00:00,  4.91it/s]\n",
            "                 Class     Images  Instances      Box(P          R      mAP50  mAP50-95): 100%|██████████| 8/8 [00:02<00:00,  2.77it/s]\n",
            "                   all        226        304      0.978      0.727      0.822       0.69\n",
            "\n",
            "      Epoch    GPU_mem   box_loss   cls_loss   dfl_loss  Instances       Size\n",
            "     70/100      13.5G     0.6832     0.5649      1.011          9        640: 100%|██████████| 50/50 [00:10<00:00,  4.95it/s]\n",
            "                 Class     Images  Instances      Box(P          R      mAP50  mAP50-95): 100%|██████████| 8/8 [00:02<00:00,  2.72it/s]\n",
            "                   all        226        304       0.93       0.76      0.834      0.711\n",
            "\n",
            "      Epoch    GPU_mem   box_loss   cls_loss   dfl_loss  Instances       Size\n",
            "     71/100      13.5G      0.664     0.5191      1.004         14        640: 100%|██████████| 50/50 [00:10<00:00,  4.96it/s]\n",
            "                 Class     Images  Instances      Box(P          R      mAP50  mAP50-95): 100%|██████████| 8/8 [00:02<00:00,  2.81it/s]\n",
            "                   all        226        304      0.926      0.776      0.839      0.718\n",
            "\n",
            "      Epoch    GPU_mem   box_loss   cls_loss   dfl_loss  Instances       Size\n",
            "     72/100      13.5G     0.6434     0.5127     0.9932         18        640: 100%|██████████| 50/50 [00:10<00:00,  4.82it/s]\n",
            "                 Class     Images  Instances      Box(P          R      mAP50  mAP50-95): 100%|██████████| 8/8 [00:02<00:00,  2.74it/s]\n",
            "                   all        226        304      0.921      0.808      0.848      0.718\n",
            "\n",
            "      Epoch    GPU_mem   box_loss   cls_loss   dfl_loss  Instances       Size\n",
            "     73/100      13.5G     0.6563     0.5134     0.9912         13        640: 100%|██████████| 50/50 [00:10<00:00,  4.94it/s]\n",
            "                 Class     Images  Instances      Box(P          R      mAP50  mAP50-95): 100%|██████████| 8/8 [00:02<00:00,  2.72it/s]\n",
            "                   all        226        304      0.928      0.806      0.843      0.718\n",
            "\n",
            "      Epoch    GPU_mem   box_loss   cls_loss   dfl_loss  Instances       Size\n",
            "     74/100      13.5G     0.6492     0.5344      0.983          6        640: 100%|██████████| 50/50 [00:10<00:00,  4.97it/s]\n",
            "                 Class     Images  Instances      Box(P          R      mAP50  mAP50-95): 100%|██████████| 8/8 [00:02<00:00,  2.72it/s]\n",
            "                   all        226        304      0.914      0.802       0.85      0.731\n",
            "\n",
            "      Epoch    GPU_mem   box_loss   cls_loss   dfl_loss  Instances       Size\n",
            "     75/100      13.5G      0.632     0.4961     0.9783         18        640: 100%|██████████| 50/50 [00:10<00:00,  4.81it/s]\n",
            "                 Class     Images  Instances      Box(P          R      mAP50  mAP50-95): 100%|██████████| 8/8 [00:02<00:00,  2.68it/s]\n",
            "                   all        226        304      0.967      0.782      0.851      0.736\n",
            "\n",
            "      Epoch    GPU_mem   box_loss   cls_loss   dfl_loss  Instances       Size\n",
            "     76/100      13.5G     0.6285     0.5071     0.9904         17        640: 100%|██████████| 50/50 [00:10<00:00,  4.67it/s]\n",
            "                 Class     Images  Instances      Box(P          R      mAP50  mAP50-95): 100%|██████████| 8/8 [00:02<00:00,  2.67it/s]\n",
            "                   all        226        304      0.955      0.789      0.853      0.746\n",
            "\n",
            "      Epoch    GPU_mem   box_loss   cls_loss   dfl_loss  Instances       Size\n",
            "     77/100      13.5G     0.6245     0.4722     0.9772         13        640: 100%|██████████| 50/50 [00:10<00:00,  4.90it/s]\n",
            "                 Class     Images  Instances      Box(P          R      mAP50  mAP50-95): 100%|██████████| 8/8 [00:02<00:00,  2.74it/s]\n",
            "                   all        226        304      0.954      0.803      0.863      0.757\n",
            "\n",
            "      Epoch    GPU_mem   box_loss   cls_loss   dfl_loss  Instances       Size\n",
            "     78/100      13.5G     0.6011     0.4764     0.9761         10        640: 100%|██████████| 50/50 [00:10<00:00,  4.91it/s]\n",
            "                 Class     Images  Instances      Box(P          R      mAP50  mAP50-95): 100%|██████████| 8/8 [00:03<00:00,  2.48it/s]\n",
            "                   all        226        304       0.95      0.813       0.86      0.763\n",
            "\n",
            "      Epoch    GPU_mem   box_loss   cls_loss   dfl_loss  Instances       Size\n",
            "     79/100      13.5G     0.6342     0.5045     0.9865          9        640: 100%|██████████| 50/50 [00:10<00:00,  4.93it/s]\n",
            "                 Class     Images  Instances      Box(P          R      mAP50  mAP50-95): 100%|██████████| 8/8 [00:03<00:00,  2.63it/s]\n",
            "                   all        226        304      0.961      0.799      0.858      0.755\n",
            "\n",
            "      Epoch    GPU_mem   box_loss   cls_loss   dfl_loss  Instances       Size\n",
            "     80/100      13.5G     0.5977     0.4705     0.9653         11        640: 100%|██████████| 50/50 [00:10<00:00,  4.93it/s]\n",
            "                 Class     Images  Instances      Box(P          R      mAP50  mAP50-95): 100%|██████████| 8/8 [00:02<00:00,  2.79it/s]\n",
            "                   all        226        304      0.954      0.796      0.849      0.742\n",
            "\n",
            "      Epoch    GPU_mem   box_loss   cls_loss   dfl_loss  Instances       Size\n",
            "     81/100      13.5G     0.5898     0.4504     0.9603          7        640: 100%|██████████| 50/50 [00:10<00:00,  4.95it/s]\n",
            "                 Class     Images  Instances      Box(P          R      mAP50  mAP50-95): 100%|██████████| 8/8 [00:02<00:00,  2.77it/s]\n",
            "                   all        226        304      0.936      0.824      0.865       0.77\n",
            "\n",
            "      Epoch    GPU_mem   box_loss   cls_loss   dfl_loss  Instances       Size\n",
            "     82/100      13.5G     0.5882     0.4419     0.9462         14        640: 100%|██████████| 50/50 [00:10<00:00,  4.85it/s]\n",
            "                 Class     Images  Instances      Box(P          R      mAP50  mAP50-95): 100%|██████████| 8/8 [00:02<00:00,  2.68it/s]\n",
            "                   all        226        304      0.956      0.789      0.857      0.748\n",
            "\n",
            "      Epoch    GPU_mem   box_loss   cls_loss   dfl_loss  Instances       Size\n",
            "     83/100      13.5G     0.5793     0.4404     0.9557         16        640: 100%|██████████| 50/50 [00:10<00:00,  4.94it/s]\n",
            "                 Class     Images  Instances      Box(P          R      mAP50  mAP50-95): 100%|██████████| 8/8 [00:02<00:00,  2.72it/s]\n",
            "                   all        226        304       0.95      0.818      0.865      0.763\n",
            "\n",
            "      Epoch    GPU_mem   box_loss   cls_loss   dfl_loss  Instances       Size\n",
            "     84/100      13.5G     0.5952     0.4717     0.9558         16        640: 100%|██████████| 50/50 [00:10<00:00,  4.92it/s]\n",
            "                 Class     Images  Instances      Box(P          R      mAP50  mAP50-95): 100%|██████████| 8/8 [00:02<00:00,  2.77it/s]\n",
            "                   all        226        304      0.933      0.826       0.86      0.773\n",
            "\n",
            "      Epoch    GPU_mem   box_loss   cls_loss   dfl_loss  Instances       Size\n",
            "     85/100      13.5G     0.5854      0.475     0.9645         13        640: 100%|██████████| 50/50 [00:10<00:00,  4.87it/s]\n",
            "                 Class     Images  Instances      Box(P          R      mAP50  mAP50-95): 100%|██████████| 8/8 [00:02<00:00,  2.70it/s]\n",
            "                   all        226        304      0.939      0.819      0.863      0.767\n",
            "\n",
            "      Epoch    GPU_mem   box_loss   cls_loss   dfl_loss  Instances       Size\n",
            "     86/100      13.5G     0.5515      0.438     0.9473         12        640: 100%|██████████| 50/50 [00:10<00:00,  4.97it/s]\n",
            "                 Class     Images  Instances      Box(P          R      mAP50  mAP50-95): 100%|██████████| 8/8 [00:03<00:00,  2.65it/s]\n",
            "                   all        226        304      0.959      0.812      0.869       0.78\n",
            "\n",
            "      Epoch    GPU_mem   box_loss   cls_loss   dfl_loss  Instances       Size\n",
            "     87/100      13.5G     0.5551     0.4359     0.9532         10        640: 100%|██████████| 50/50 [00:10<00:00,  4.91it/s]\n",
            "                 Class     Images  Instances      Box(P          R      mAP50  mAP50-95): 100%|██████████| 8/8 [00:03<00:00,  2.60it/s]\n",
            "                   all        226        304      0.977      0.822      0.868       0.78\n",
            "\n",
            "      Epoch    GPU_mem   box_loss   cls_loss   dfl_loss  Instances       Size\n",
            "     88/100      13.5G      0.572     0.4387      0.948         17        640: 100%|██████████| 50/50 [00:10<00:00,  4.96it/s]\n",
            "                 Class     Images  Instances      Box(P          R      mAP50  mAP50-95): 100%|██████████| 8/8 [00:02<00:00,  2.67it/s]\n",
            "                   all        226        304      0.976      0.819      0.884      0.805\n",
            "\n",
            "      Epoch    GPU_mem   box_loss   cls_loss   dfl_loss  Instances       Size\n",
            "     89/100      13.5G     0.5335      0.413     0.9363         17        640: 100%|██████████| 50/50 [00:10<00:00,  4.93it/s]\n",
            "                 Class     Images  Instances      Box(P          R      mAP50  mAP50-95): 100%|██████████| 8/8 [00:02<00:00,  2.76it/s]\n",
            "                   all        226        304      0.971      0.819      0.876      0.798\n",
            "\n",
            "      Epoch    GPU_mem   box_loss   cls_loss   dfl_loss  Instances       Size\n",
            "     90/100      13.5G     0.5362     0.4198     0.9256         12        640: 100%|██████████| 50/50 [00:10<00:00,  4.92it/s]\n",
            "                 Class     Images  Instances      Box(P          R      mAP50  mAP50-95): 100%|██████████| 8/8 [00:02<00:00,  2.76it/s]\n",
            "                   all        226        304      0.944       0.83      0.873      0.794\n",
            "Closing dataloader mosaic\n",
            "\u001b[34m\u001b[1malbumentations: \u001b[0mBlur(p=0.01, blur_limit=(3, 7)), MedianBlur(p=0.01, blur_limit=(3, 7)), ToGray(p=0.01), CLAHE(p=0.01, clip_limit=(1, 4.0), tile_grid_size=(8, 8))\n",
            "\n",
            "      Epoch    GPU_mem   box_loss   cls_loss   dfl_loss  Instances       Size\n",
            "     91/100      13.5G     0.5201      0.407     0.9533          8        640: 100%|██████████| 50/50 [00:10<00:00,  4.93it/s]\n",
            "                 Class     Images  Instances      Box(P          R      mAP50  mAP50-95): 100%|██████████| 8/8 [00:02<00:00,  2.74it/s]\n",
            "                   all        226        304      0.948      0.829      0.882      0.781\n",
            "\n",
            "      Epoch    GPU_mem   box_loss   cls_loss   dfl_loss  Instances       Size\n",
            "     92/100      13.5G     0.4924     0.3805     0.9256         10        640: 100%|██████████| 50/50 [00:09<00:00,  5.54it/s]\n",
            "                 Class     Images  Instances      Box(P          R      mAP50  mAP50-95): 100%|██████████| 8/8 [00:02<00:00,  2.73it/s]\n",
            "                   all        226        304      0.975      0.826      0.883      0.803\n",
            "\n",
            "      Epoch    GPU_mem   box_loss   cls_loss   dfl_loss  Instances       Size\n",
            "     93/100      13.5G     0.4716     0.3455     0.9214         11        640: 100%|██████████| 50/50 [00:08<00:00,  5.59it/s]\n",
            "                 Class     Images  Instances      Box(P          R      mAP50  mAP50-95): 100%|██████████| 8/8 [00:02<00:00,  2.73it/s]\n",
            "                   all        226        304      0.951      0.826      0.875      0.792\n",
            "\n",
            "      Epoch    GPU_mem   box_loss   cls_loss   dfl_loss  Instances       Size\n",
            "     94/100      13.5G     0.4628     0.3256     0.9153          9        640: 100%|██████████| 50/50 [00:09<00:00,  5.55it/s]\n",
            "                 Class     Images  Instances      Box(P          R      mAP50  mAP50-95): 100%|██████████| 8/8 [00:02<00:00,  2.78it/s]\n",
            "                   all        226        304      0.964      0.826      0.875       0.79\n",
            "\n",
            "      Epoch    GPU_mem   box_loss   cls_loss   dfl_loss  Instances       Size\n",
            "     95/100      13.5G     0.4544     0.3415      0.917          6        640: 100%|██████████| 50/50 [00:09<00:00,  5.39it/s]\n",
            "                 Class     Images  Instances      Box(P          R      mAP50  mAP50-95): 100%|██████████| 8/8 [00:02<00:00,  2.79it/s]\n",
            "                   all        226        304      0.968      0.829      0.876      0.797\n",
            "\n",
            "      Epoch    GPU_mem   box_loss   cls_loss   dfl_loss  Instances       Size\n",
            "     96/100      13.5G     0.4603     0.3342     0.9168         10        640: 100%|██████████| 50/50 [00:09<00:00,  5.46it/s]\n",
            "                 Class     Images  Instances      Box(P          R      mAP50  mAP50-95): 100%|██████████| 8/8 [00:02<00:00,  2.83it/s]\n",
            "                   all        226        304      0.972      0.812      0.882      0.808\n",
            "\n",
            "      Epoch    GPU_mem   box_loss   cls_loss   dfl_loss  Instances       Size\n",
            "     97/100      13.5G     0.4454     0.3249     0.9029         10        640: 100%|██████████| 50/50 [00:09<00:00,  5.50it/s]\n",
            "                 Class     Images  Instances      Box(P          R      mAP50  mAP50-95): 100%|██████████| 8/8 [00:02<00:00,  2.78it/s]\n",
            "                   all        226        304      0.968      0.819      0.886      0.808\n",
            "\n",
            "      Epoch    GPU_mem   box_loss   cls_loss   dfl_loss  Instances       Size\n",
            "     98/100      13.5G     0.4385     0.3187     0.9045          6        640: 100%|██████████| 50/50 [00:08<00:00,  5.59it/s]\n",
            "                 Class     Images  Instances      Box(P          R      mAP50  mAP50-95): 100%|██████████| 8/8 [00:02<00:00,  2.73it/s]\n",
            "                   all        226        304      0.958      0.842      0.884       0.81\n",
            "\n",
            "      Epoch    GPU_mem   box_loss   cls_loss   dfl_loss  Instances       Size\n",
            "     99/100      13.5G     0.4303     0.3074      0.903          9        640: 100%|██████████| 50/50 [00:09<00:00,  5.52it/s]\n",
            "                 Class     Images  Instances      Box(P          R      mAP50  mAP50-95): 100%|██████████| 8/8 [00:02<00:00,  2.77it/s]\n",
            "                   all        226        304       0.98      0.822       0.88      0.812\n",
            "\n",
            "      Epoch    GPU_mem   box_loss   cls_loss   dfl_loss  Instances       Size\n",
            "    100/100      13.5G      0.424     0.3178     0.9009          8        640: 100%|██████████| 50/50 [00:09<00:00,  5.48it/s]\n",
            "                 Class     Images  Instances      Box(P          R      mAP50  mAP50-95): 100%|██████████| 8/8 [00:04<00:00,  1.63it/s]\n",
            "                   all        226        304      0.948      0.836      0.886      0.819\n",
            "\n",
            "100 epochs completed in 0.429 hours.\n",
            "Optimizer stripped from /content/gdrive/MyDrive/TFM1/ultralytics/runs/detect/train12/weights/last.pt, 52.0MB\n",
            "Optimizer stripped from /content/gdrive/MyDrive/TFM1/ultralytics/runs/detect/train12/weights/best.pt, 52.0MB\n",
            "\n",
            "Validating /content/gdrive/MyDrive/TFM1/ultralytics/runs/detect/train12/weights/best.pt...\n",
            "Ultralytics YOLOv8.0.50 🚀 Python-3.9.16 torch-1.13.1+cu116 CUDA:0 (NVIDIA A100-SXM4-40GB, 40514MiB)\n",
            "Model summary (fused): 218 layers, 25840339 parameters, 0 gradients, 78.7 GFLOPs\n",
            "                 Class     Images  Instances      Box(P          R      mAP50  mAP50-95): 100%|██████████| 8/8 [00:04<00:00,  1.68it/s]\n",
            "                   all        226        304      0.948      0.836      0.886      0.819\n",
            "Speed: 0.9ms preprocess, 2.0ms inference, 0.0ms loss, 0.9ms postprocess per image\n",
            "Results saved to \u001b[1m/content/gdrive/MyDrive/TFM1/ultralytics/runs/detect/train12\u001b[0m\n"
          ]
        }
      ]
    },
    {
      "cell_type": "markdown",
      "source": [
        "Predicción"
      ],
      "metadata": {
        "id": "xhyPLz6OK-Zc"
      }
    },
    {
      "cell_type": "code",
      "source": [
        "import locale\n",
        "locale.getpreferredencoding = lambda: \"UTF-8\""
      ],
      "metadata": {
        "id": "xo0acdizfXXX"
      },
      "execution_count": 11,
      "outputs": []
    },
    {
      "cell_type": "code",
      "source": [
        "!yolo task=segment mode=predict model=\"/content/gdrive/MyDrive/TFM1/ultralytics/runs/detect/train12/weights/best.pt\" source=\"/content/gdrive/MyDrive/TFM1/DATANew/dataset/test/images\" save=True"
      ],
      "metadata": {
        "colab": {
          "base_uri": "https://localhost:8080/"
        },
        "id": "Otdd1OD0fdU8",
        "outputId": "8e473185-f1b0-400f-a2d3-91b6c40fe966"
      },
      "execution_count": 12,
      "outputs": [
        {
          "output_type": "stream",
          "name": "stdout",
          "text": [
            "WARNING ⚠️ conflicting 'task=segment' passed with 'task=detect' model. Ignoring 'task=segment' and updating to 'task=detect' to match model.\n",
            "Ultralytics YOLOv8.0.58 🚀 Python-3.9.16 torch-1.13.1+cu116 CUDA:0 (NVIDIA A100-SXM4-40GB, 40514MiB)\n",
            "Model summary (fused): 218 layers, 25840339 parameters, 0 gradients, 78.7 GFLOPs\n",
            "\n",
            "image 1/113 /content/gdrive/MyDrive/TFM1/DATANew/dataset/test/images/A00_02_1_5.jpg: 640x640 2 Mitosiss, 15.3ms\n",
            "image 2/113 /content/gdrive/MyDrive/TFM1/DATANew/dataset/test/images/A00_04_4_2.jpg: 640x640 1 Mitosis, 18.2ms\n",
            "image 3/113 /content/gdrive/MyDrive/TFM1/DATANew/dataset/test/images/A00_09_1_1.jpg: 640x640 1 Mitosis, 16.9ms\n",
            "image 4/113 /content/gdrive/MyDrive/TFM1/DATANew/dataset/test/images/A00_09_2_2.jpg: 640x640 1 Mitosis, 19.5ms\n",
            "image 5/113 /content/gdrive/MyDrive/TFM1/DATANew/dataset/test/images/A01_00_2_3.jpg: 640x640 (no detections), 16.6ms\n",
            "image 6/113 /content/gdrive/MyDrive/TFM1/DATANew/dataset/test/images/A01_00_4_5.jpg: 640x640 1 Mitosis, 15.0ms\n",
            "image 7/113 /content/gdrive/MyDrive/TFM1/DATANew/dataset/test/images/A01_01_5_6.jpg: 640x640 1 Mitosis, 14.8ms\n",
            "image 8/113 /content/gdrive/MyDrive/TFM1/DATANew/dataset/test/images/A01_02_1_4.jpg: 640x640 1 Mitosis, 14.9ms\n",
            "image 9/113 /content/gdrive/MyDrive/TFM1/DATANew/dataset/test/images/A01_02_2_7.jpg: 640x640 1 Mitosis, 15.0ms\n",
            "image 10/113 /content/gdrive/MyDrive/TFM1/DATANew/dataset/test/images/A01_02_7_7.jpg: 640x640 2 Mitosiss, 14.9ms\n",
            "image 11/113 /content/gdrive/MyDrive/TFM1/DATANew/dataset/test/images/A01_03_4_2.jpg: 640x640 2 Mitosiss, 15.3ms\n",
            "image 12/113 /content/gdrive/MyDrive/TFM1/DATANew/dataset/test/images/A01_03_5_6.jpg: 640x640 4 Mitosiss, 15.1ms\n",
            "image 13/113 /content/gdrive/MyDrive/TFM1/DATANew/dataset/test/images/A01_05_1_5.jpg: 640x640 2 Mitosiss, 15.0ms\n",
            "image 14/113 /content/gdrive/MyDrive/TFM1/DATANew/dataset/test/images/A01_05_2_6.jpg: 640x640 1 Mitosis, 15.1ms\n",
            "image 15/113 /content/gdrive/MyDrive/TFM1/DATANew/dataset/test/images/A01_07_2_6.jpg: 640x640 1 Mitosis, 15.1ms\n",
            "image 16/113 /content/gdrive/MyDrive/TFM1/DATANew/dataset/test/images/A01_07_3_1.jpg: 640x640 1 Mitosis, 15.0ms\n",
            "image 17/113 /content/gdrive/MyDrive/TFM1/DATANew/dataset/test/images/A01_07_6_1.jpg: 640x640 1 Mitosis, 14.7ms\n",
            "image 18/113 /content/gdrive/MyDrive/TFM1/DATANew/dataset/test/images/A01_08_2_2.jpg: 640x640 1 Mitosis, 15.5ms\n",
            "image 19/113 /content/gdrive/MyDrive/TFM1/DATANew/dataset/test/images/A01_08_2_5.jpg: 640x640 2 Mitosiss, 14.8ms\n",
            "image 20/113 /content/gdrive/MyDrive/TFM1/DATANew/dataset/test/images/A01_08_2_7.jpg: 640x640 3 Mitosiss, 14.7ms\n",
            "image 21/113 /content/gdrive/MyDrive/TFM1/DATANew/dataset/test/images/A01_08_4_5.jpg: 640x640 2 Mitosiss, 15.6ms\n",
            "image 22/113 /content/gdrive/MyDrive/TFM1/DATANew/dataset/test/images/A02_02_2_2.jpg: 640x640 1 Mitosis, 14.9ms\n",
            "image 23/113 /content/gdrive/MyDrive/TFM1/DATANew/dataset/test/images/A02_02_3_2.jpg: 640x640 1 Mitosis, 15.1ms\n",
            "image 24/113 /content/gdrive/MyDrive/TFM1/DATANew/dataset/test/images/A02_04_2_4.jpg: 640x640 (no detections), 14.8ms\n",
            "image 25/113 /content/gdrive/MyDrive/TFM1/DATANew/dataset/test/images/A02_04_3_1.jpg: 640x640 1 Mitosis, 15.0ms\n",
            "image 26/113 /content/gdrive/MyDrive/TFM1/DATANew/dataset/test/images/A02_05_2_6.jpg: 640x640 1 Mitosis, 15.1ms\n",
            "image 27/113 /content/gdrive/MyDrive/TFM1/DATANew/dataset/test/images/A02_08_4_5.jpg: 640x640 4 Mitosiss, 15.1ms\n",
            "image 28/113 /content/gdrive/MyDrive/TFM1/DATANew/dataset/test/images/A02_09_4_7.jpg: 640x640 1 Mitosis, 15.1ms\n",
            "image 29/113 /content/gdrive/MyDrive/TFM1/DATANew/dataset/test/images/A03_02_2_3.jpg: 640x640 1 Mitosis, 15.0ms\n",
            "image 30/113 /content/gdrive/MyDrive/TFM1/DATANew/dataset/test/images/A03_02_2_5.jpg: 640x640 1 Mitosis, 14.8ms\n",
            "image 31/113 /content/gdrive/MyDrive/TFM1/DATANew/dataset/test/images/A03_02_4_7.jpg: 640x640 1 Mitosis, 14.9ms\n",
            "image 32/113 /content/gdrive/MyDrive/TFM1/DATANew/dataset/test/images/A03_02_7_7.jpg: 640x640 1 Mitosis, 15.3ms\n",
            "image 33/113 /content/gdrive/MyDrive/TFM1/DATANew/dataset/test/images/A03_03_2_2.jpg: 640x640 (no detections), 15.2ms\n",
            "image 34/113 /content/gdrive/MyDrive/TFM1/DATANew/dataset/test/images/A03_03_4_4.jpg: 640x640 1 Mitosis, 15.1ms\n",
            "image 35/113 /content/gdrive/MyDrive/TFM1/DATANew/dataset/test/images/A03_03_5_3.jpg: 640x640 1 Mitosis, 15.0ms\n",
            "image 36/113 /content/gdrive/MyDrive/TFM1/DATANew/dataset/test/images/A03_03_6_4.jpg: 640x640 3 Mitosiss, 15.3ms\n",
            "image 37/113 /content/gdrive/MyDrive/TFM1/DATANew/dataset/test/images/A03_03_6_5.jpg: 640x640 3 Mitosiss, 15.2ms\n",
            "image 38/113 /content/gdrive/MyDrive/TFM1/DATANew/dataset/test/images/A03_05_4_1.jpg: 640x640 1 Mitosis, 15.3ms\n",
            "image 39/113 /content/gdrive/MyDrive/TFM1/DATANew/dataset/test/images/A03_07_4_2.jpg: 640x640 2 Mitosiss, 15.3ms\n",
            "image 40/113 /content/gdrive/MyDrive/TFM1/DATANew/dataset/test/images/A03_07_7_2.jpg: 640x640 1 Mitosis, 15.2ms\n",
            "image 41/113 /content/gdrive/MyDrive/TFM1/DATANew/dataset/test/images/A03_08_7_2.jpg: 640x640 2 Mitosiss, 15.0ms\n",
            "image 42/113 /content/gdrive/MyDrive/TFM1/DATANew/dataset/test/images/A03_09_4_2.jpg: 640x640 1 Mitosis, 15.5ms\n",
            "image 43/113 /content/gdrive/MyDrive/TFM1/DATANew/dataset/test/images/A03_09_4_6.jpg: 640x640 (no detections), 15.0ms\n",
            "image 44/113 /content/gdrive/MyDrive/TFM1/DATANew/dataset/test/images/A03_09_5_6.jpg: 640x640 (no detections), 15.1ms\n",
            "image 45/113 /content/gdrive/MyDrive/TFM1/DATANew/dataset/test/images/A03_09_7_2.jpg: 640x640 (no detections), 15.1ms\n",
            "image 46/113 /content/gdrive/MyDrive/TFM1/DATANew/dataset/test/images/A03_09_7_4.jpg: 640x640 4 Mitosiss, 15.5ms\n",
            "image 47/113 /content/gdrive/MyDrive/TFM1/DATANew/dataset/test/images/A03_09_7_6.jpg: 640x640 3 Mitosiss, 15.2ms\n",
            "image 48/113 /content/gdrive/MyDrive/TFM1/DATANew/dataset/test/images/A04_00_4_2.jpg: 640x640 1 Mitosis, 15.8ms\n",
            "image 49/113 /content/gdrive/MyDrive/TFM1/DATANew/dataset/test/images/A04_01_4_2.jpg: 640x640 1 Mitosis, 15.5ms\n",
            "image 50/113 /content/gdrive/MyDrive/TFM1/DATANew/dataset/test/images/A04_01_5_4.jpg: 640x640 1 Mitosis, 15.2ms\n",
            "image 51/113 /content/gdrive/MyDrive/TFM1/DATANew/dataset/test/images/A04_01_6_4.jpg: 640x640 2 Mitosiss, 15.4ms\n",
            "image 52/113 /content/gdrive/MyDrive/TFM1/DATANew/dataset/test/images/A04_04_2_1.jpg: 640x640 1 Mitosis, 15.1ms\n",
            "image 53/113 /content/gdrive/MyDrive/TFM1/DATANew/dataset/test/images/A04_04_3_3.jpg: 640x640 2 Mitosiss, 15.6ms\n",
            "image 54/113 /content/gdrive/MyDrive/TFM1/DATANew/dataset/test/images/A04_04_5_3.jpg: 640x640 2 Mitosiss, 14.9ms\n",
            "image 55/113 /content/gdrive/MyDrive/TFM1/DATANew/dataset/test/images/A04_05_4_3.jpg: 640x640 1 Mitosis, 14.8ms\n",
            "image 56/113 /content/gdrive/MyDrive/TFM1/DATANew/dataset/test/images/A04_05_4_7.jpg: 640x640 1 Mitosis, 15.4ms\n",
            "image 57/113 /content/gdrive/MyDrive/TFM1/DATANew/dataset/test/images/A04_05_5_3.jpg: 640x640 1 Mitosis, 16.9ms\n",
            "image 58/113 /content/gdrive/MyDrive/TFM1/DATANew/dataset/test/images/A04_05_6_4.jpg: 640x640 2 Mitosiss, 15.3ms\n",
            "image 59/113 /content/gdrive/MyDrive/TFM1/DATANew/dataset/test/images/A04_05_7_2.jpg: 640x640 1 Mitosis, 15.2ms\n",
            "image 60/113 /content/gdrive/MyDrive/TFM1/DATANew/dataset/test/images/A04_05_7_3.jpg: 640x640 2 Mitosiss, 15.5ms\n",
            "image 61/113 /content/gdrive/MyDrive/TFM1/DATANew/dataset/test/images/A04_06_1_1.jpg: 640x640 1 Mitosis, 15.2ms\n",
            "image 62/113 /content/gdrive/MyDrive/TFM1/DATANew/dataset/test/images/A04_06_6_5.jpg: 640x640 2 Mitosiss, 15.4ms\n",
            "image 63/113 /content/gdrive/MyDrive/TFM1/DATANew/dataset/test/images/A04_08_2_5.jpg: 640x640 1 Mitosis, 15.1ms\n",
            "image 64/113 /content/gdrive/MyDrive/TFM1/DATANew/dataset/test/images/H00_03_5_2.jpg: 640x640 1 Mitosis, 15.2ms\n",
            "image 65/113 /content/gdrive/MyDrive/TFM1/DATANew/dataset/test/images/H00_04_4_5.jpg: 640x640 1 Mitosis, 15.4ms\n",
            "image 66/113 /content/gdrive/MyDrive/TFM1/DATANew/dataset/test/images/H01_00_5_7.jpg: 640x640 1 Mitosis, 15.7ms\n",
            "image 67/113 /content/gdrive/MyDrive/TFM1/DATANew/dataset/test/images/H01_00_6_6.jpg: 640x640 2 Mitosiss, 15.4ms\n",
            "image 68/113 /content/gdrive/MyDrive/TFM1/DATANew/dataset/test/images/H01_02_1_2.jpg: 640x640 1 Mitosis, 15.2ms\n",
            "image 69/113 /content/gdrive/MyDrive/TFM1/DATANew/dataset/test/images/H01_03_3_1.jpg: 640x640 1 Mitosis, 15.2ms\n",
            "image 70/113 /content/gdrive/MyDrive/TFM1/DATANew/dataset/test/images/H01_03_5_1.jpg: 640x640 2 Mitosiss, 15.4ms\n",
            "image 71/113 /content/gdrive/MyDrive/TFM1/DATANew/dataset/test/images/H01_03_5_5.jpg: 640x640 3 Mitosiss, 15.4ms\n",
            "image 72/113 /content/gdrive/MyDrive/TFM1/DATANew/dataset/test/images/H01_03_7_1.jpg: 640x640 1 Mitosis, 15.0ms\n",
            "image 73/113 /content/gdrive/MyDrive/TFM1/DATANew/dataset/test/images/H01_07_2_2.jpg: 640x640 1 Mitosis, 15.4ms\n",
            "image 74/113 /content/gdrive/MyDrive/TFM1/DATANew/dataset/test/images/H01_07_4_6.jpg: 640x640 2 Mitosiss, 14.8ms\n",
            "image 75/113 /content/gdrive/MyDrive/TFM1/DATANew/dataset/test/images/H01_07_6_2.jpg: 640x640 (no detections), 15.0ms\n",
            "image 76/113 /content/gdrive/MyDrive/TFM1/DATANew/dataset/test/images/H01_07_6_3.jpg: 640x640 (no detections), 15.8ms\n",
            "image 77/113 /content/gdrive/MyDrive/TFM1/DATANew/dataset/test/images/H01_08_1_3.jpg: 640x640 (no detections), 15.6ms\n",
            "image 78/113 /content/gdrive/MyDrive/TFM1/DATANew/dataset/test/images/H01_08_4_4.jpg: 640x640 3 Mitosiss, 15.1ms\n",
            "image 79/113 /content/gdrive/MyDrive/TFM1/DATANew/dataset/test/images/H02_02_3_3.jpg: 640x640 1 Mitosis, 14.9ms\n",
            "image 80/113 /content/gdrive/MyDrive/TFM1/DATANew/dataset/test/images/H02_02_6_1.jpg: 640x640 1 Mitosis, 14.9ms\n",
            "image 81/113 /content/gdrive/MyDrive/TFM1/DATANew/dataset/test/images/H02_02_6_3.jpg: 640x640 1 Mitosis, 15.4ms\n",
            "image 82/113 /content/gdrive/MyDrive/TFM1/DATANew/dataset/test/images/H02_04_1_4.jpg: 640x640 1 Mitosis, 15.7ms\n",
            "image 83/113 /content/gdrive/MyDrive/TFM1/DATANew/dataset/test/images/H02_04_1_7.jpg: 640x640 (no detections), 15.1ms\n",
            "image 84/113 /content/gdrive/MyDrive/TFM1/DATANew/dataset/test/images/H02_04_2_7.jpg: 640x640 1 Mitosis, 14.8ms\n",
            "image 85/113 /content/gdrive/MyDrive/TFM1/DATANew/dataset/test/images/H02_04_3_1.jpg: 640x640 1 Mitosis, 15.1ms\n",
            "image 86/113 /content/gdrive/MyDrive/TFM1/DATANew/dataset/test/images/H02_06_2_3.jpg: 640x640 1 Mitosis, 14.8ms\n",
            "image 87/113 /content/gdrive/MyDrive/TFM1/DATANew/dataset/test/images/H02_08_3_5.jpg: 640x640 1 Mitosis, 14.9ms\n",
            "image 88/113 /content/gdrive/MyDrive/TFM1/DATANew/dataset/test/images/H02_08_4_6.jpg: 640x640 3 Mitosiss, 15.0ms\n",
            "image 89/113 /content/gdrive/MyDrive/TFM1/DATANew/dataset/test/images/H03_02_5_5.jpg: 640x640 1 Mitosis, 15.9ms\n",
            "image 90/113 /content/gdrive/MyDrive/TFM1/DATANew/dataset/test/images/H03_02_6_5.jpg: 640x640 1 Mitosis, 16.4ms\n",
            "image 91/113 /content/gdrive/MyDrive/TFM1/DATANew/dataset/test/images/H03_02_6_6.jpg: 640x640 2 Mitosiss, 15.6ms\n",
            "image 92/113 /content/gdrive/MyDrive/TFM1/DATANew/dataset/test/images/H03_03_1_7.jpg: 640x640 1 Mitosis, 15.0ms\n",
            "image 93/113 /content/gdrive/MyDrive/TFM1/DATANew/dataset/test/images/H03_05_2_2.jpg: 640x640 3 Mitosiss, 15.4ms\n",
            "image 94/113 /content/gdrive/MyDrive/TFM1/DATANew/dataset/test/images/H03_05_6_2.jpg: 640x640 2 Mitosiss, 15.5ms\n",
            "image 95/113 /content/gdrive/MyDrive/TFM1/DATANew/dataset/test/images/H03_06_1_5.jpg: 640x640 1 Mitosis, 15.5ms\n",
            "image 96/113 /content/gdrive/MyDrive/TFM1/DATANew/dataset/test/images/H03_06_4_3.jpg: 640x640 2 Mitosiss, 16.4ms\n",
            "image 97/113 /content/gdrive/MyDrive/TFM1/DATANew/dataset/test/images/H03_06_4_4.jpg: 640x640 1 Mitosis, 15.3ms\n",
            "image 98/113 /content/gdrive/MyDrive/TFM1/DATANew/dataset/test/images/H03_06_5_5.jpg: 640x640 1 Mitosis, 15.6ms\n",
            "image 99/113 /content/gdrive/MyDrive/TFM1/DATANew/dataset/test/images/H03_07_5_6.jpg: 640x640 2 Mitosiss, 14.8ms\n",
            "image 100/113 /content/gdrive/MyDrive/TFM1/DATANew/dataset/test/images/H04_00_5_3.jpg: 640x640 2 Mitosiss, 14.8ms\n",
            "image 101/113 /content/gdrive/MyDrive/TFM1/DATANew/dataset/test/images/H04_01_6_3.jpg: 640x640 1 Mitosis, 25.0ms\n",
            "image 102/113 /content/gdrive/MyDrive/TFM1/DATANew/dataset/test/images/H04_02_1_6.jpg: 640x640 1 Mitosis, 15.4ms\n",
            "image 103/113 /content/gdrive/MyDrive/TFM1/DATANew/dataset/test/images/H04_04_4_6.jpg: 640x640 1 Mitosis, 14.8ms\n",
            "image 104/113 /content/gdrive/MyDrive/TFM1/DATANew/dataset/test/images/H04_05_7_3.jpg: 640x640 2 Mitosiss, 14.7ms\n",
            "image 105/113 /content/gdrive/MyDrive/TFM1/DATANew/dataset/test/images/H04_06_1_4.jpg: 640x640 1 Mitosis, 15.1ms\n",
            "image 106/113 /content/gdrive/MyDrive/TFM1/DATANew/dataset/test/images/H04_06_3_7.jpg: 640x640 1 Mitosis, 15.0ms\n",
            "image 107/113 /content/gdrive/MyDrive/TFM1/DATANew/dataset/test/images/H04_06_7_5.jpg: 640x640 2 Mitosiss, 15.0ms\n",
            "image 108/113 /content/gdrive/MyDrive/TFM1/DATANew/dataset/test/images/H04_06_7_6.jpg: 640x640 2 Mitosiss, 15.0ms\n",
            "image 109/113 /content/gdrive/MyDrive/TFM1/DATANew/dataset/test/images/H04_08_1_6.jpg: 640x640 1 Mitosis, 15.2ms\n",
            "image 110/113 /content/gdrive/MyDrive/TFM1/DATANew/dataset/test/images/H04_08_1_7.jpg: 640x640 (no detections), 15.2ms\n",
            "image 111/113 /content/gdrive/MyDrive/TFM1/DATANew/dataset/test/images/H04_08_5_2.jpg: 640x640 1 Mitosis, 15.1ms\n",
            "image 112/113 /content/gdrive/MyDrive/TFM1/DATANew/dataset/test/images/H04_08_5_3.jpg: 640x640 1 Mitosis, 15.0ms\n",
            "image 113/113 /content/gdrive/MyDrive/TFM1/DATANew/dataset/test/images/H04_08_6_3.jpg: 640x640 1 Mitosis, 14.9ms\n",
            "Speed: 0.7ms preprocess, 15.4ms inference, 1.5ms postprocess per image at shape (1, 3, 640, 640)\n",
            "Results saved to \u001b[1m/content/gdrive/MyDrive/TFM1/ultralytics/runs/detect/predict15\u001b[0m\n"
          ]
        }
      ]
    },
    {
      "cell_type": "markdown",
      "source": [
        "Implementamos código, para la validación de la predicción con nuestras coordenadas almacenadas en el archivo .txt correspondiente a cada imagen"
      ],
      "metadata": {
        "id": "czj83XFKMxeR"
      }
    },
    {
      "cell_type": "code",
      "source": [
        "%matplotlib inline\n",
        "with open('/content/gdrive/MyDrive/TFM1/DATANew/dataset/test/labels/A01_08_2_7.txt') as f:\n",
        "  for line in f:\n",
        "    print(line)\n",
        "    #firstline = line.readlines()\n",
        "    data = line.split()\n",
        "    #print(data)\n",
        "    x=round(float(data[1])*512,2)\n",
        "    y=round(float(data[2])*512,2)\n",
        "    #print(x,y)\n",
        "    img= io.imread(\"/content/gdrive/MyDrive/TFM1/ultralytics/runs/detect/predict2/A01_08_2_7.jpg\")\n",
        "    print(img[:,:,1])\n",
        "    plt.plot(x,y,marker=\"o\",markersize=10)\n",
        "    plt.imshow(img)"
      ],
      "metadata": {
        "colab": {
          "base_uri": "https://localhost:8080/",
          "height": 430
        },
        "id": "PjInwu3XcE1U",
        "outputId": "afbc3ce4-5a7f-407d-c03b-ed1191e2c2a8"
      },
      "execution_count": 21,
      "outputs": [
        {
          "output_type": "stream",
          "name": "stdout",
          "text": [
            "0 0.584 0.577 0.121 0.15\n",
            "\n",
            "[[168 154 150 ...  83  88  94]\n",
            " [164 149 144 ...  88  92  97]\n",
            " [151 142 144 ...  93  95  98]\n",
            " ...\n",
            " [104  94  85 ...  81  90 102]\n",
            " [126 101  83 ...  81  89 103]\n",
            " [137 101  80 ...  81  88 103]]\n"
          ]
        },
        {
          "output_type": "display_data",
          "data": {
            "text/plain": [
              "<Figure size 432x288 with 1 Axes>"
            ],
            "image/png": "[encoded data removed]"
          },
          "metadata": {
            "needs_background": "light"
          }
        }
      ]
    },
    {
      "cell_type": "code",
      "source": [],
      "metadata": {
        "id": "llETqUUhcQA0"
      },
      "execution_count": null,
      "outputs": []
    }
  ]
}